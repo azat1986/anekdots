{
  "nbformat": 4,
  "nbformat_minor": 0,
  "metadata": {
    "kernelspec": {
      "display_name": "Python 3",
      "language": "python",
      "name": "python3"
    },
    "language_info": {
      "codemirror_mode": {
        "name": "ipython",
        "version": 3
      },
      "file_extension": ".py",
      "mimetype": "text/x-python",
      "name": "python",
      "nbconvert_exporter": "python",
      "pygments_lexer": "ipython3",
      "version": "3.7.1"
    },
    "latex_envs": {
      "LaTeX_envs_menu_present": true,
      "autoclose": false,
      "autocomplete": true,
      "bibliofile": "biblio.bib",
      "cite_by": "apalike",
      "current_citInitial": 1,
      "eqLabelWithNumbers": true,
      "eqNumInitial": 1,
      "hotkeys": {
        "equation": "Ctrl-E",
        "itemize": "Ctrl-I"
      },
      "labels_anchors": false,
      "latex_user_defs": false,
      "report_style_numbering": false,
      "user_envs_cfg": false
    },
    "toc": {
      "base_numbering": 1,
      "nav_menu": {},
      "number_sections": true,
      "sideBar": true,
      "skip_h1_title": false,
      "title_cell": "Table of Contents",
      "title_sidebar": "Contents",
      "toc_cell": false,
      "toc_position": {},
      "toc_section_display": true,
      "toc_window_display": false
    },
    "colab": {
      "name": "Генератор анекдотов",
      "provenance": [],
      "collapsed_sections": [],
      "toc_visible": true,
      "include_colab_link": true
    },
    "accelerator": "GPU"
  },
  "cells": [
    {
      "cell_type": "markdown",
      "metadata": {
        "id": "view-in-github",
        "colab_type": "text"
      },
      "source": [
        "<a href=\"https://colab.research.google.com/github/azat1986/anekdots/blob/main/%D0%93%D0%B5%D0%BD%D0%B5%D1%80%D0%B0%D1%82%D0%BE%D1%80_%D0%B0%D0%BD%D0%B5%D0%BA%D0%B4%D0%BE%D1%82%D0%BE%D0%B2.ipynb\" target=\"_parent\"><img src=\"https://colab.research.google.com/assets/colab-badge.svg\" alt=\"Open In Colab\"/></a>"
      ]
    },
    {
      "cell_type": "markdown",
      "metadata": {
        "id": "uHeCignmQmYf"
      },
      "source": [
        "# Генерация текста с помощью RNN\n"
      ]
    },
    {
      "cell_type": "markdown",
      "metadata": {
        "id": "dViX1uktQmYl"
      },
      "source": [
        "(по мотивам [семинара](https://github.com/neychev/harbour_dlia2019/blob/master/day02_Simple_RNN/Day_2_Simple_RNN_pytorch.ipynb)\n",
        " [курса \"Deep Learning in Applications\"](https://in.harbour.space/data-science/deep-learning-in-applications-radoslav-neychev-anastasia-ianina/))"
      ]
    },
    {
      "cell_type": "code",
      "metadata": {
        "id": "qt07bGFuQmYm"
      },
      "source": [
        "# Если Вы запускаете ноутбук на colab или kaggle,\n",
        "# выполните следующие строчки, чтобы подгрузить библиотеку dlnlputils:\n",
        "\n",
        "# !git clone https://github.com/Samsung-IT-Academy/stepik-dl-nlp.git && pip install -r stepik-dl-nlp/requirements.txt\n",
        "# import sys; sys.path.append('./stepik-dl-nlp')"
      ],
      "execution_count": null,
      "outputs": []
    },
    {
      "cell_type": "code",
      "metadata": {
        "ExecuteTime": {
          "end_time": "2019-11-05T18:20:34.854793Z",
          "start_time": "2019-11-05T18:20:34.372865Z"
        },
        "id": "prSfOJozQmYv"
      },
      "source": [
        "import os\n",
        "\n",
        "import numpy as np\n",
        "import matplotlib.pyplot as plt\n",
        "%matplotlib inline"
      ],
      "execution_count": 1,
      "outputs": []
    },
    {
      "cell_type": "markdown",
      "metadata": {
        "id": "pQ4aS4IoQmYy"
      },
      "source": [
        "# Данные\n",
        "Датасет содержит ~130k анектодов на русском языке"
      ]
    },
    {
      "cell_type": "code",
      "metadata": {
        "ExecuteTime": {
          "end_time": "2019-11-05T18:21:03.509714Z",
          "start_time": "2019-11-05T18:21:03.491489Z"
        },
        "id": "09P3FP7kQmYz"
      },
      "source": [
        "# Если Вы запускаете ноутбук на colab или kaggle, добавьте в начало пути ./stepik-dl-nlp\n",
        "with open('anek.txt') as input_file:\n",
        "    anek = input_file.read()[:-1].split('\\n')\n",
        "    anek = [' ' + line[:300] for line in anek]\n",
        "    anek = [line.replace(\"\\\\n\", \" \") for line in anek]\n",
        "    anek = [line.replace(\"\\\\\\n\", \" \") for line in anek]\n",
        "    anek = [line.replace(\"\\\\\\\\n\", \" \") for line in anek]"
      ],
      "execution_count": 3,
      "outputs": []
    },
    {
      "cell_type": "code",
      "metadata": {
        "ExecuteTime": {
          "end_time": "2019-11-05T18:21:03.946758Z",
          "start_time": "2019-11-05T18:21:03.938432Z"
        },
        "id": "7-fiifV5QmY3",
        "outputId": "6624947d-d7f1-4477-d7c1-78f7e2aef2fe",
        "colab": {
          "base_uri": "https://localhost:8080/"
        }
      },
      "source": [
        "anek[:5]"
      ],
      "execution_count": null,
      "outputs": [
        {
          "output_type": "execute_result",
          "data": {
            "text/plain": [
              "[' Из учебника физики за 8 класс под ред. С.В. Громова. Задача N109. В озеро упала ветка. Пробегавший мимо олень успел заметить что волна созданная падением ветки дошла до берега за 10 с причем расстояние между соседними гребнями волн было равно 10 см и за 2 с было 4 всплеска о берег. Помогите оленю определить как далеко от берега упала ветка. Интересно - что они курят?! ',\n",
              " ' В школе учитель спрашивает ученика: - Когда умер Александр Македонский? - Умер? Я даже не знал что он болен! ',\n",
              " ' Урок в одной из владивостокских школ обсуждается волнующая тема любовь и брак. Вопрос ученицы: А зачем нужны светящиеся презервативы? Ответил ученик очень тихий и застенчивый: Они освещают путь! ',\n",
              " ' Папа спрашивает у Вовочки: - Вовочка, что читаешь? - Учительница дала почитать, называется - Лесбиянки! - Да ну?!! А ну, дай посмотреть... Берет книгу, разочарованно: - А-а-а... Лес Бианки! ',\n",
              " ' Ребятишки слепили снеговик. Девочка:  У него кое-чего не хватает. Мальчик:  Я знаю. Сейчас принесу. Девочка:  Неси две. Нос ему тоже из морковки сделаем.  ']"
            ]
          },
          "metadata": {
            "tags": []
          },
          "execution_count": 3
        }
      ]
    },
    {
      "cell_type": "markdown",
      "metadata": {
        "id": "VIW3VXQ4QmY-"
      },
      "source": [
        "Посмотрим на распределение длин анекдотов:"
      ]
    },
    {
      "cell_type": "code",
      "metadata": {
        "ExecuteTime": {
          "end_time": "2019-11-05T18:21:05.420060Z",
          "start_time": "2019-11-05T18:21:05.179513Z"
        },
        "id": "y_59jhGfQmY-",
        "outputId": "b79e629e-e786-427b-f075-ac055b9545cc",
        "colab": {
          "base_uri": "https://localhost:8080/",
          "height": 281
        }
      },
      "source": [
        "plt.title('Anekdots length distribution')\n",
        "plt.hist(list(map(len, anek)), bins=25);"
      ],
      "execution_count": 4,
      "outputs": [
        {
          "output_type": "display_data",
          "data": {
            "image/png": "[encoded data removed]",
            "text/plain": [
              "<Figure size 432x288 with 1 Axes>"
            ]
          },
          "metadata": {
            "tags": [],
            "needs_background": "light"
          }
        }
      ]
    },
    {
      "cell_type": "markdown",
      "metadata": {
        "id": "pJto2WrRQmZB"
      },
      "source": [
        "# Препроцессинг"
      ]
    },
    {
      "cell_type": "code",
      "metadata": {
        "ExecuteTime": {
          "end_time": "2019-11-05T18:21:07.335188Z",
          "start_time": "2019-11-05T18:21:07.320148Z"
        },
        "id": "cMfRf39fQmZC",
        "outputId": "fc62da21-caec-445e-8f7d-3b158123096e",
        "colab": {
          "base_uri": "https://localhost:8080/"
        }
      },
      "source": [
        "#all unique characters go here\n",
        "tokens = list(set(''.join(anek)))\n",
        "\n",
        "num_tokens = len(tokens)\n",
        "print ('num_tokens = ', num_tokens)"
      ],
      "execution_count": 5,
      "outputs": [
        {
          "output_type": "stream",
          "text": [
            "num_tokens =  211\n"
          ],
          "name": "stdout"
        }
      ]
    },
    {
      "cell_type": "markdown",
      "metadata": {
        "id": "wdHnRNWZQmZH"
      },
      "source": [
        "### Символы -> id\n",
        "\n",
        "Создадим словарь < символ > -> < id >"
      ]
    },
    {
      "cell_type": "code",
      "metadata": {
        "ExecuteTime": {
          "end_time": "2019-11-05T18:21:07.674548Z",
          "start_time": "2019-11-05T18:21:07.671129Z"
        },
        "id": "ZbmQP6YsQmZI"
      },
      "source": [
        "token_to_id = {token: idx for idx, token in enumerate(tokens)}"
      ],
      "execution_count": 6,
      "outputs": []
    },
    {
      "cell_type": "code",
      "metadata": {
        "ExecuteTime": {
          "end_time": "2019-11-05T18:21:07.838814Z",
          "start_time": "2019-11-05T18:21:07.833611Z"
        },
        "id": "uesIzTVFQmZP",
        "outputId": "8972c9a9-504c-412b-d929-aea6ae20e1a6",
        "colab": {
          "base_uri": "https://localhost:8080/"
        }
      },
      "source": [
        "assert len(tokens) == len(token_to_id), \"dictionaries must have same size\"\n",
        "\n",
        "for i in range(num_tokens):\n",
        "    assert token_to_id[tokens[i]] == i, \"token identifier must be it's position in tokens list\"\n",
        "\n",
        "print(\"Seems alright!\")"
      ],
      "execution_count": 7,
      "outputs": [
        {
          "output_type": "stream",
          "text": [
            "Seems alright!\n"
          ],
          "name": "stdout"
        }
      ]
    },
    {
      "cell_type": "code",
      "metadata": {
        "ExecuteTime": {
          "end_time": "2019-11-05T18:21:07.988093Z",
          "start_time": "2019-11-05T18:21:07.977722Z"
        },
        "id": "r83CdPQVQmZS"
      },
      "source": [
        "def to_matrix(data, token_to_id, max_len=None, dtype='int32', batch_first = True):\n",
        "    \"\"\"Casts a list of anekdots into rnn-digestable matrix\"\"\"\n",
        "    \n",
        "    max_len = max_len or max(map(len, data))\n",
        "    data_ix = np.zeros([len(data), max_len], dtype) + token_to_id[' ']\n",
        "\n",
        "    for i in range(len(data)):\n",
        "        line_ix = [token_to_id[c] for c in data[i]]\n",
        "        data_ix[i, :len(line_ix)] = line_ix\n",
        "        \n",
        "    if not batch_first: # convert [batch, time] into [time, batch]\n",
        "        data_ix = np.transpose(data_ix)\n",
        "\n",
        "    return data_ix"
      ],
      "execution_count": 8,
      "outputs": []
    },
    {
      "cell_type": "code",
      "metadata": {
        "ExecuteTime": {
          "end_time": "2019-11-05T18:21:08.136936Z",
          "start_time": "2019-11-05T18:21:08.131609Z"
        },
        "id": "opVX-NAWQmZW",
        "outputId": "eb564eac-618b-4998-e895-6ced22d000e9",
        "colab": {
          "base_uri": "https://localhost:8080/"
        }
      },
      "source": [
        "#Example: cast 4 anekotds to matrices, pad with zeros\n",
        "print('\\n'.join(anek[::200]))\n",
        "print(to_matrix(anek[::200], token_to_id))"
      ],
      "execution_count": 9,
      "outputs": [
        {
          "output_type": "stream",
          "text": [
            " Из учебника физики за 8 класс под ред. С.В. Громова. Задача N109. В озеро упала ветка. Пробегавший мимо олень успел заметить что волна созданная падением ветки дошла до берега за 10 с причем расстояние между соседними гребнями волн было равно 10 см и за 2 с было 4 всплеска о берег. Помогите оленю о\n",
            " - Вы приговариваетесь к штрафу в пятьсот рублей. Надеюсь, это отучит вас обкрадывать телефоны - автоматы. - Понятно, гражданин судья. Скажите, а можно уплатить штраф двухкопеечными монетами? \n",
            " Собрался парень на гулянку и говорит отцу: -Пап,если я пьяный номой приду ты ниче не делай уложи меня спать юююя просплюсь и всё нормально будет- и ушёл.На утро просыпается, смотрит а сам весь в синеках, ссадинах. ну непонимает что  случилось подходит к отцу с расспросами , а отец и отвечает: - Ну\n",
            " - Новые сигареты Беломорканал суперлёгкие... Надо иметь суперлёгкие, чтобы курить эти сигареты! \n",
            " Встречаются во дворе два друга после очередной пьянки. Один другому говорит: - Меня жена как-то по-иностранному звать стала. Имя такое интересное, но я его никак запомнить не могу. Тут выходит его жена на балкон и кричит: - Кобелина, домой ! \n",
            " Ползут по пустыне две черепахи, одна за собой  пулемет тащит. Вдруг видят - впереди караван.   - Василий Иваныч! Давай их обстреляем!   - Нафига, Петька?   - Так просто, поприкалываемся...   - Нафиг! Над Хоттабычем уже поприкалывались!\n",
            " Запустили в космос Белку, Стрелку и Паладина. Идёт перекличка: - Белка! - Гав. - Проверь энергосеть. Стрелка! - Гав. - Проверь главный пульт управления. Паладин! - Гав. - Не гав, а я. Во-первых, покорми собак, а во-вторых, ничего не трогай! \n",
            " Штирлиц вышел из моря и с размаху бросился на гальку. Галька не испугалась. Так было надо и она это знала. \n",
            " Всемирный конгресс женщин обсуждает один из самых жизненных вопросов: что нужно мужчине, чтобы он был внимательнее к женщине? Выступает англичанка: - Нам, женщинам, нужно лучше одеваться, тогда мужчины будут больше обращать на нас внимания. Выступает француженка: - Нам нужно почаще раздеваться\n",
            " В офицерском театре ставили оперу Русалка. Из-за болезни статиста роль мельника предложили Ржевский. Основная фраза мельника - Какой я мельник. Я ворон черный. В предвкушении театрального триумфа Ржевский перед спектаклем крепко выпил и забыл даже эту простую реплику. Покачиваясь, Ржевский стоит\n",
            " Hаташе Ростовой девятнадцать. В темную комнату входит  именинница с пирогом, на котором горят только восемнадцать свеч.  - Гусары,- обращается она к присутствующим, - на пироге не нашлось  места для одной свечки, куда мне ее деть?  - Господа, ни слова о пи#де!- раздается голос Поручика Ржевского\n",
            "  В зале суда.   Судья:   - Подсудимый, за что вы избили до полусмерти вашего соседа?   Обвиняемый:   - Он разводит в квартире кур.   Судья:   - Разве это повод?   Обвиняемый:   - Господин судья, я полгода пролечился у психиатра, думая, что кукуреканье за стеной - плод моего больного воображе\n",
            "  Подходит бандит(б) к девушке(д) и говорит:   (б)-Жить хочешь?   (д)-А с кем?   (б)-Деньги есть?   (д)-А сколько надо?   (б)-А ну раздевайся!   (д)-А ты?   (б)-Ну не хами я же на работе!\n",
            " - Ты слышал, Рабинович бросил курить?- Не может быть, я не верю!- Тем не менее, это правда! Он свою последнюю сигатрету потушил о бензоколонку!\n",
            " Спорят два еврея. Не могут договориться. Пошли к старейшине.- Cкажите,белый это цвет?- Цвет.- А чёрный-цвет?- Да- Вот видишь, я продал тебе ЦВЕТНОЙ телевизор!\n",
            "  Голодные волки встретили в лесу зайца и собрались его съесть, а заяц им говорит:   - Погодите, мной вы сильно не насытитесь, а я могу вас привести к стаду овец.   Волки решили не есть зайца и пошли за ним. Идут, а голод мучает все сильнее, они значит спрашивают:   - Долго еще идти?   Заяц им от\n",
            "  У ворот Ада и Рая апостол Петр собрал женщин:   -Все в ряд. Кто хоть раз изменял мужу - шаг вперед.   Все шагнули вперед, кроме одной — честной женщины.   Апостол Петр:   -Ну что ж. Все в Ад и глухая тоже.\n",
            "  Да-а!!! Теперь я пирожок с мясом - подумал колобок обгладывая лисьи кости.\n",
            "  Весна. Лиса, волк и медведь сидят под деревом и делятся впечатлениями о прошедшей зиме. Лиса и волк ободранные, избитые, а медведь - толстый, лоснящийся.   Лиса:   - Зимовала я в курятнике. По одной курочке в неделю съедала, но люди сволочи всех кур посчитали, выяснили что, десятка не хватает. По\n",
            "  31 декабря. Россия. Глухая провинция. Обыкновенная среднестатистическая семья ,   замученная финансовым кризисом, готовится к встрече Нового Года…   Дети наряжают елку, мать хлопочет на кухне.   Отец , снимает со стены ружье. выходит на крыльцо и пару раз стреляет в воздух.   Заходит в дом и гр\n",
            "  Инструктор в горах говорит туристам:  - Это очень опасный склон, но, если вы все-таки сорветесь, то не  забудьте посмотреть направо - редкой красоты вид открывается...  \n",
            " Хозяева оставили кота одного дома на несколько дней, и оставили ему в миске гречку.1-ый день: -Фуууууууууу, гречка!!!!2-ой день:-Фу, гречка!!!3-ий день:-ООООООООООО, гречка!!!!!!!!!!!!!!!!!\n",
            " -Привет, воробей!-Я не воробей, я ойёл!-А почему такой маленький?-Болей.-А клюв где?-Сгний!\n",
            " Муравей и слон в разведке. Муравей: - Слон! Ложись! Меня заметили! \n",
            "  Два друга беседуют о жизни. Один говорит:   - Я всегда мечтал сидеть за рулем огромной машины и чтобы мои карманы были набиты деньгами!   - Ну, и как, так и не сбылась твоя мечта?   - Почему же, сбылась! Я работаю водителем рейсового автобуса!\n",
            "  В результате проведеного исследования Могут ли работникиГАИ обойтись без взяток, был получен утвердительный ответ:да, не могут!\n",
            "  Добрая половина российских гаишников берет взятки, а злая половина   еще и отбирает права.  \n",
            " Спрашивают у одного итальянского олигарха:- Вы больше любите женщин или вино?- Это зависит от даты выпуска.\n",
            " После войны евреев раскулачивали. И вот пришли к старому Мойше и говорят:  - Нам доложили, что у вас есть 100 кг. золота! Еврей: - Да да, Сарочка золотце это к тебе!\n",
            " Идет американская свадьба. Вбегает в зал главный распорядитель и объявляет: - Свадьба отменяется - невесту обесчестили! Все начали собираться домой. Вбегает тот же распорядитель: - Господа! Свадьба состоится! Честь невесты восстановлена! Негодяй извинился! \n",
            " Западный бизнесмен посетил СССР. У него интересуются: - Что вам у нас понравилось? - Многое: бесплатная медицина, детские ясли, садыЄ Но самое большое достояние: возможность ничего не делать на работе и при этом получать зарплату. \n",
            " Рассказывает Александр Вольдман. Конец 70-х. Агитпоезд ЦК ВЛКСМ по Нечерноземью. В составе агитбригады - еще и Сашин брат Михаил. В одном из населенных пунктов артистов уже ждет рукописная афиша, на которой начертано: В программе - два брата: Вальдман и Вельдман! \n",
            "  621. - рабинович, почему вы не подаете на выезд?   - видите ли, мне уже под восемьдесят. сколько мне осталось?  от силы лет пять. а здесь, если я останусь, мне могут дать еще  лет десять!  622. - что будет, когда основной вопрос борьбы двух систем кто  кого? решится в нашу пользу?   - тогда н\n",
            " Комментатор:&quot;Сегодня дождь должен помочь &quot;Спартаку&quot;. Не знаю, почему, но должен помочь...&quot;\n",
            " Один англичанин, большой поклонник гольфа, обучает своего сына этой игре:- Мой сын, я хочу обучить тебя благороднейшему виду спорта - гольфу. Правила очень просты: берется маленький шарик - 4 см в диаметре - и кладется на большой шар - около 13 000 км в диаметре. Затем нужно взять клюшку и ударить п\n",
            " - Вот все почему-то думают, что боксёры тупые, необразованные болваны, хотя это совсем не так! Я вот, например, читаю Достоевского, Толстого, Булгакова... только не понимаю нихрена...\n",
            " Вернувшись в общежитие, студентка застает свою соседку по комнате всю в слезах.- Что случилось, почему ты плачешь?- Понимаешь, я написала письмо родителям с просьбой прислать мне денег на компьютер.- Они тебе отказали, да?- Хуже. Они\n",
            " даддададзишсдогидфгио; дофиг; дфогид; ифоДурацкая клавиатура!Дурацкая клавиатура!\n",
            " Чайник заходит в комнату, где сидит программист-системщик:- Слушай, мне нужен генератор случайных чисел.Тот, не оборачиваясь:- Четырнадцать...\n",
            " Умер геймер. на суде у Бога: - Сын мой ты грешил - отправляйся в ад.Ну, тот попал в ад. Смотрит: вокруг темновато, черти, котлы. Он отбирает у ближайшего чёрта вилы, мочит всех чертей, добирается до Сатаны, его кокает.Бог видит, что твориться и думает: &quot;А он-то хороший!&quot; Ну и спустил гейме\n",
            " (У)читель на уpоке биологии спpашивает pебят как кpичат pазные животные:. Машенька: Я знаю как кошечка кpичит! У - Как? - Мяу-мяу У - Молодец Петенька: Я знаю как собачка кpичит. У - Как ? - Гав-гав У - Молодец ... Так пpодолжаеться пеpечесление не менее 15 животных. Тут (В)овочка тянет pуку: \n",
            "  Школа. Урок труда.   Учитель:   - Основное правило техники безопасности: пальцы в розетку не совать!   Ученик:   - Так они туда не влазят.   - А ты гвоздики возьми, придурок!\n",
            "  В школе:   - Дети, придумайте предложение с выражением Чуть было.   Коля:   - Наша Оля чуть было не стала королевой красоты!   Петя:   - В субботу мы с мамой чуть было не опоздали на электричку.   Вовочка:   - Сегодня утром мы с Коляном чуть было не загнулись с похмелюги, но у нас чуть было.\n",
            "  На уроке:   - Так, дети, придумайте выражение, объединяющее биологию и математику.   Петя:   - Летом вокруг нас летают тысячи насекомых.   Вовочка:   - Как таблицу умножения, я знаю позы размножения!  \n",
            " Вовочка пpишел в школу - пеpвый pаз, в пеpвый класс.  Пpиходит со школы pадостный и сообщает матеpи, что научился писать слово из  тpех букв. Мать pассеpдилась и поставила сына в угол. Пpишел с pаботы отец и  спpашивает сына:  - Вовочка за что ты стоишь в углу - Да я маме сказал, что научился пи\n",
            " Один новый русский говорит другому:- Слушай, вот у меня машина что-то не заводитсяне могу понять почему...- А ты фары протирал?- Ну да.- А по колесу стучал?- А как же...- Ну тогда я не знаю...\n",
            " Новый русский приезжает в супермаркет на шестисотом. Минут через 20 он выходит и видит, что на месте его &quot;Мерса&quot; стоит в конец убитый ушастый &quot;Запорожец&quot;, на который приколота записка: &quot;Я был просто вынужден угнать вашу машину. Если не верите, попробуйте поездить на моей&quo\n",
            " - Неизвестные преступники похитили жену и сына известного бизнесмена Курочкина и требуют от него выкуп в 5 миллионов долларов. Курочкин заявил, что пощады вымогателям не будет, ведь они покусились на самое дорогое, что у него есть, - пять миллионов долларов.\n",
            " На съезде компартии России: - Предлагаю поставить памятник новому русскому... - ?!!! - ... в виде красноармейца, насаживающего на штык нового русского. - !!! Каждый день - нового! \n",
            "  Урок английского языка для нового русского:   - неопределенный артикль a переводится как типа.   Например: типа стол....   - определенный артикль the переводится как чисто.   Например: чисто стол!\n",
            "  Сделал новый русский у себя ремонт высшего класса. Привёл друзей, показывает зал, столовая, бильярд ... . Спрашивает: Ну как?. Да ни чё, только вот в туалете у тебя плитка мелковата!. Ты чё в натуре, там одна плитка 100 баксов стоит, Пентиум называется!\n",
            "  Возвращается мужик домой поздно вечером под мухой, помятый и женскими духами от него отдает. Жена, встречая его, улыбается:   - Ну, здравствуй, мой Супермен! Ужинать будешь, мой Супермен? Или сразу пойдем спать, мой Супермен?! . . Муж, совершенно недоумевая:   - А чего это ты меня Суперменом все \n",
            "  Наркоман стоит на мосту и косяк забивает. Подходит заика:   - А-а-а г-г-где з-з-здесь ш-ш-школа д-д-для з-з-заик?   Наркоман:   - А нах тебе школа, ты и так пи%&@то заикаешься!\n",
            "  После косячка пошел наркоман в парикмахерскую. Сел, закрыл глаза:   - Короче...   Постригли.   - Короче...   Еще постригли.   - Короче...   Постригли наголо.   - Короче, ты мне немножко с боков убери и сзади подровняй.\n",
            "  Пользуясь новогодними праздниками, в российских вытрезвителях была произведена перепись населения.\n",
            "  Муж приходит домой на бровях.  Жена закипает:  -Опять напился!  -Да что ты! Только две кружки пива. Hе веришь?   Вот у Жучки спроси.   Жена обращается к собаке:  -Жучка, сколько хозяин пива выпил?  -Гав! Гав!  -А водки?  -У-у-у!  \n",
            " Пьяный мужик поймал интеллигентного мальчика и говорит:  - Ругайся матом!  - Не умею, - отвечает мальчик.  - Ругайся как умеешь.  - Пиписка.  - Так мало?  - Вагон пиписек.\n",
            "  Через некоторое время заметил мужик, что стали пропадать дрова из поленницы.   Понемногу, но регулярно. И, что самое обидное, знал мужик, кто ворует.   Это был, сосед, живший как раз за забором. Из таких людишек, что если где-то что-то плохо лежит – враз утащит. Да так, что все знают, кто стянул,\n",
            "  Грузин сын приходит к отцу:   - Папа, у миня сиводня сэкс бил!   Отец радуется, собирает всё село у себя дома, пир, гулянки, сто тысяч тостов в честь сына... ... ... ... В конце пиршества отец говорит:   - Ну што, синок? У тубя сэводня опять будит сэкс?   - Нэт папа, жопа балит...\n",
            "  В еврейскую школу приходит новый учитель. Дети собираются вокруг него и наперебой рассказывают о своей школе, о классе.. Показывая на одного из учеников, они говорят:   - А это Моня-дурачёк. Вот посмотрите, если ему предложить на выбор монеты в пол-шекеля и в шекель, он выберет пол-шекеля, потому \n",
            "  Попали на не обитаемый остров американец, немец и русский.   Попали в плен к туземцам.   Туземцы говорят: кто назовет то о чем мы не знаем, отпустим , а если знаем -съедим.   Американец говорит: компьютер.   Туземцы отошли в сторонку пошептались, говорят: -Это такая штука-стучишь по клавишам а \n",
            "  - Почему русские так болезненно восприняли информацию о том, что Украина ворует газ? Неужели дело только в газе?!   - Нет. Просто жить за счёт воровства - национальная идея многих русских. А отдать свою национальную идею они не могут!  \n",
            "  Русский человек меру знает - лишнее сблюет!\n",
            "  Идут двое русских по Германии. Один другому:   - Спорим, что любой немец понимает по-русски?   - Да ну!   - Ну смотри.   Подходит к первому попавшемуся немцу и говорит:   - Поцелуй меня в задницу.   - WAS?   - Да-да, меня и его тоже.\n",
            "  Таварыщ камандыр! Мая фамылыя нэ тры тысячи трыдцат, а Зозо!\n",
            " Приходит Сарра к раввину:  У меня сегодня брачная ночь, я думаю - мне в постель лечь в комбинации или без?  В это время в дверь врывается Абрам:  У меня проблема, коммунисты хотят, чтобы я вступил в колхоз, что делать?  Раввин: Абрам, вступишь ты в колхоз или нет тебя, все равно  вы%^&*(&*^, кс\n",
            " Сидят два алкаша: - Сколько времени, не знаешь? - Знаю! - Спасибо!\n",
            " Голос разума, голос совести,голос крови. Ну его на, этот хор.\n",
            " - Почему ты такой мрачный?- Понимаешь, теща села в машину, и разбилась.- Она была старая?- Какой там. И месяца не прошло, как купил!\n",
            " - Как называют мужчину, который занимается сексом без презерватива?- Папа!!!\n",
            " - Откуда берутся резиновые женщины?- Они рождаются после резинового члена.\n",
            " - Что общего у новогодней елки и монаха?- .. шары, у обоих только для украшения.\n",
            " Разъяренный клиент звонит в компанию:- У вас юрист есть???- Нет.- А математик?!- ?- Потому что я вас на ноль помножу!!!\n",
            " Мужик жалуется приятелям: - Дерганный я стал в последнее время. Нервный. Жена говорит, оттого, что пью всякую гадость. На самом деле пора все менять. Сегодня же попробую успокаивающий лосьон после бритья.\n",
            " Девушка - парню:- Ты меня любишь?- Ещё нет.... Но попробовать можно!\n",
            " - Сосед, приходи вечером, жены не будет!- Я лучше зайду, когда не будет тебя...\n",
            " Во время штурма наркопритона был зверски убит прапорщик Петренко.Через три дня состояние прапорщика нормализовалось.\n",
            " У мужика спрашивают:- Кого ты боишся больше всего на дороге, за рулем? - Пьяных и солдат. - А, больше всех, кого? - Женщин, это - пьяный солдат за рулем.\n",
            " Из милицейских протоколов:Ударила сотрудника по совместной работе на месте совместной работы.\n",
            " В суде:- Гражданин Дадашвили, как вы износиловали гражданку Иванову?- Спасибо, хорошо.\n",
            " - Вы не можете даже представить, как мне трудно, - жалуется пациент психиатру. - Моя жена задает мне вопрос, потом сама на него отвечает. А через полчаса начинает объяснять мне, почему я ответил неправильно! \n",
            "  - Здравствуйте, Иван Иванович!   - Здравствуйте, доктор!   - Ну, как мы сегодня?   - Я думаю, мы сегодня, как обычно, после обхода - по сто пятьдесят? . .\n",
            "  В психушку приехала комиссия. Ходят, смотрят. Поднимаются на предпоследний этаж, глядь, а на последний хода нет - лестница перегорожена толстой решеткой аж с тремя замками! Председатель комиссии - главврачу:   -А что там у вас?   -Человек-труба.   -Хотим посмотреть! Откройте!   -Ну хотите - иди\n",
            "  Больной был здоров,причина смерти не установлена...   Главный врач, прочитав такой странный протокол о вскрытии, вызвал на ковёр паталогоанатома.   -Опять вы все перепились, мясники! Всех уволю! Плохо резали!   -Да хорошо резали, Иван Иваныч. Только этот покойнник странный какой-то был. Обычно о\n",
            "  Поликлиника. Кабинет терапевта. В кабинете стоит врач со спущенными штанами, а молодая пациентка делает ему минет. Завершив дело, сглотнув, пациентка тревожно спрашивает:   - Ну, что?   Врач, задумчиво:   - Да, милочка, вы правы, у вас гланды.\n",
            "  Если вас мучает бессонница, примите слабительное. Уснуть вы все равно   не уснете, но по крайней мере вам будет чем заняться.  \n",
            " К врачу пришел на прием пациент:  - Доктор, у меня желудок болит.  - Пьете?  - Пью, но не помогает.\n",
            " Училка спрашивает у Вовочки:- Почему опоздал.- На меня напал бандит.- И что он сделал. - Украл домашнее задание.\n",
            " Студент профессору:- Мне приснилось, что я сдал экзамены! Что мне сделать, чтобы это стало  правдой?- Меньше спать...\n",
            " Из сочинения:В центре города растет парк обсаженный нашими родителями.\n",
            " Мальчик конфету нашел под ногам (Яд в шоколад был подмешан врагами), Взял, откусил - и мальчонки не стало...Не поднимайте с земли что попало!\n",
            " Два абитуриента после письменного экзамена:- Ты что-нибудь написал?- Нет, сдал чистый лист.- Черт! Подумают, что я у тебя списал!\n",
            " Из школьного сочинения:Старый князь Болконский не хотел свадьбы сына с Наташей Ростовой и дал ему год условно.\n",
            " Из сочинения:У Онегина было тяжело на душе, и поэтому он пошел к Татьяне облегчиться.\n",
            " В целях усиления борьбы с наркотиками принято решение переименовать Госнаркоконтроль в Госкомдурь\n",
            " В институте. Идёт  экзамен .В класс входит шатаясь студент  и спрашивет:-Вы примите ик! немного подвыпившего ик! студента?Преподователь:-Если немного то входите!-Ребята ик! заносите его!\n",
            "  Сидят студенты и ждут еще одного студента:   - За что выпьем?   - Чтобы Петров сдал на пять.   Снова:   - За что выпьем?   - Чтобы Петров сдал на пять.   Приходит Петров и говорит:   - Сдал на 4-80. Одна бутылка была разбита.\n",
            "  Идет экзамен по педагогике.   Преподаватель спрашивает студента:   - Что такое учебный план?   - Учебный план? Это - табак!\n",
            " Женщина заглядывает в кабинет терапевта: - Простите, доктор, это я не у Вас только что бюстгальтер  забыла?  спрашивает она. - Нет, не у меня. - А, ну, значит, у окулиста! \n",
            " Девушка: Вы пытаетесь склонить меня к оральному сексу? Чувак: нет, я пытаюсь склонить вас к своему члену, чтобы вы его взяли в рот. Девушка: и что мне с ним там делать? Чувак: ну не в карты же играть. Ясное дело  сосать! Девушка: отпустите меня немедленно! Чувак: сначала сделайте то, что мне ну\n",
            "  Приходит мужик на работу и говорит: Жена совсем стервой стала. Приму грех на душу, пришибу!  Подсказали мужики, что лучшим способом будет затрахать ее до смерти.   Ну мужик пришел домой и начал её «любить», старался что было сил, аж сам в беспамятстве уснул. Просыпается, смотрит все поглажено, еда\n",
            "  Приходит древний старичок в публичный дом и просит девушку на два часа.   Хозяин:   - Старый, да ты за два часа помрёшь!   - Спорим, если выдержу, то потом весь твой дом бесплатно пере. . . ? !   - Ну давай!   Старичок выберает девушку и отправляется в номер. Два часа из комнаты разносится тяж\n",
            "  - Я в отчаянии. У меня сложилось впечатление, что красивого мужчину   голыми руками не возьмешь. Что ты мне посоветуешь?   - Вообще-то мужчин берут голыми ногами...  \n",
            "  Разговор двух подруг:   - Знаешь, врач собщил мне вчера радостную новость - я беременна!   - Поздравляю! Ты уже придумала имя будущему ребенку?   - Да нет, пока думаю над отчеством...\n",
            "  Едет автобус с «челноками» из Москвы. Глубокая ночь. На заднем сиденье два голубых. Один другому:   - Ну, вот все спят…ну давай…   - Да ну а вдруг кто ни будь, не спит?   - Сейчас проверим.   Громко говорит на весь автобус «Люди дайте кто ни будь попить!». В ответ не звука. Повторил еще раз то \n",
            "  Приходит проститутка домой после тяжеленного рабочего дня. Её мама спрашивает:   - Ну чё, доча, как делы?   - ААААА, заебали.\n",
            "  Путь к сердцу женщины не должен лежать...\n",
            "  Девушка молится богу:  -Господи, ты помог святой Марии зачать без греха, помоги мне согрешить без зачатия!\n",
            " Обняв женy и похотливо кpякнyв, Иванов погpyзился в пyчины  волнyющей pадости.  Радость была коpоткой и досталась только Ивановy...\n",
            " Приходит мужик с женой к сексопатологу:  - Понимаете, доктор, мы с вами интеллегентные люди. У нас очень тонкий   вопрос - мы с женой никак не можем зачать ребенка.  - Я все понимаю, мы с вами интеллегентные люди, пусть ваша жена пока   выйдет, я вас осмотрю.  Осмотрел врач мужика и говорит ему\n",
            " Мужик приходит к врачу и говорит:  - Доктор, я уже три дня пописать не могу.  - Раздевайтесь.  Мужик разделся.  - Так у вас же член узлом завязан.  - (Мужик хлопая себя по лбу)... бл&, опять забыл за хлебом сходить.\n",
            " &quot;Пронесло&quot;, - подумал Штирлиц, снимая обоср#нные штаны.\n",
            " - Товаpищ пpапоpщик, pасстегай - это pыба или мясо?- Это команда!\n",
            " Сержант, проводя занятия с новобранцами, кричит на подчиненных:- Эй вы, каракатицы, ползите быстрее!Проходящий полковник делает замечание:- Не обзывай их такими словами, которых они не понимают. Откуда имзнать ботанику?\n",
            " - На первый-второй по-еврейски рассчитайсь!- Я болею...- Я устал!- Мне нельзя!- Меня мама поругает. Расчёт окончен!\n",
            " По приближению Штирлица рядовой вскочил, отдал честь и сказал:- Господин штандартенфюрер Штирлиц, разрешите доложить...- Докладывайте, - сказал Штирлиц, махнул рукой и пошел дальше.Он и сам не любил, когда ему мешали справлять нужду...\n",
            " Прапорщик построил ротую- Проверка состояния обуви. Правую вверхюВсе поднимают правую ногу, один солдат по ошибке поднимает левую. Прапорщик замечает брешь в шеренге:- Кто это поднял обе ноги?\n",
            " Выходит поручик Ржевский с концерта Высоцкого и напевает: &quot;Лучше баб могут быть только бабы, на которых еще не бывал...&quot;\n",
            " В армии:- Иванов- здесь- Петров- здесь- Грузин... грузин- Я нэ грузин я король Грузии- чукча- здесьЧерез неделю- Петров - Здесь- Иванов- Здесь- Король Грузии- Здесь- Чукча... чукча- Я не чукча, прошлой ночью я стал королевой Грузии.\n",
            "  Прапорщик спрашивает:   - Есть среди вас кто-нибудь с музыкальным образованием?   - Есть, я!   - И я!   - Отнесите в клуб пианино!   - А для чего тут музыкальное образование?   - Чтобы не поперли что-нибудь другое!\n",
            "  - Деда, а расскажи, как ты во время войны два самолета сбил!   - Ну-у-у... Не совсем сбил.. Скажем так: недозаправил!\n",
            "  Из области техники:   - Что такое танк, товарищи бойцы?   - Танк - это возбужденный трактор, товарищ полковник!!!!\n",
            " Рядового Мэдисона отправили с донесением. Через некоторое время  сержант обнаружил его сидящим на обочине дороги.  - Что вы здесь делаете?  - Насколько я знаю, Земля вращается.  - Ну и что?  - Вот я и жду, когда место, куда меня послали, само подъедет ко  мне.\n",
            " Одна подруга - другой: - Вот у тебя муж - моряк дальнего плавания, ты его видишь неделю в году, как ты терпишь? - Неделю-то?\n",
            " - Пpосто удивительно. Наши соседи не pугаются уже тpи дня!  - Может, они поссоpились?\n",
            " Подарил дед внуку пистолет, а тот поменял его у друга на часы. Потом дед спрашивает: - Гоги, где твой пистолет?- Я его поменял на часы...- Как поменял? Зачем поменял?! Представляешь, придут к тебе люди и скажут, что мать твоя дура, отец твой дурак, дед твой идиот, бабка твой идиотка и сам ты тоже пр\n",
            " Два приятеля встерчаются. Первый говорит:- Представляешь, жена мало того, что не разрешает со мной спать, так вообще запретила на обед с ней садиться! Второй:- Так ты еще и есть умеешь?\n",
            " Дочь:- Все! Я выхожу замуж за Ваську!Мать:- Да он же бездельник и пьяница!!!Отец:- Ну, надо ж с кого-то начинать!\n",
            " - Когда мы только поженились, ты себе брал маленькие кусочки, а мне оставлял самые большие. Ты меня больше не любишь!- Ерунда, дорогая. Просто ты стала готовить лучше.\n",
            " - Дорогой, закрой окно.- Ты голосовала, ты и закрывай!- Спасибо, Ваш голос будет учтен в течение 10 минут, когда суп сварится.\n",
            " Кризис. Муж приходит с работы. Жена спрашивает: - Ты почему такой грустный? - Почему-почему... Зарплату получил!..\n",
            " - Почему ты до сих пор не побрился! Мы же идем в театр!- Я брился.- Когда?!- Когда ты начала одеваться...\n",
            " 1968 После прыжков с парашютом к инструктору подходит курсант: -- Запишите меня. Голубович. Два прыжка. -- Вы с ума сошли! Это же ваш первый... -- Все правильно: это был мой первый и последний прыжок. \n",
            " 1726 Профессор-паразитолог, глядя в микроскоп: -- Что-то тебя, зараза, давно не было видно?.. \n",
            " 1492 Когда жена одного глупца собиралась родить, он сказал повитухе: Принеси мне сына, и я тебе дам динар. \n",
            " 1248 Пожилая дама жалуется приятельнице: -- Представь себе, дорогая Конти! Вчера я пригласила к себе гостей, все было в порядке, пока Христиан не начал рас- сказывать ужасно неприличный анекдот. Я вынуждена была вы- гнать циника. -- Правильно сделала! -- И я так думала, но за ним вышли все гос\n",
            " 1013 Разговор двух старых подруг: Представляешь, моя дочь ничего мне не рассказывает. Я буквально не нахожу себе места! -- Ой, и не говори! Я тоже: моя дочь рассказывает мне все. Как я тебя понимаю... \n",
            " 766 Одна дама с недоумением спрашивает: -- Милочка, с тех пор, как вы окончили автомобильные кур- сы, я почему-то ни разу не видела вас за рулем. -- Моя дорогая, я с такими муками овладела правами, что не хочу сразу потерять их. \n",
            " 528 В ресторане за разными столиками сидят два грузина с девушками. Но, как известно, чужая всегда кажется лучше. Шота подходит к соседнему столику: -- Гога, дорогой, разреши потанцевать хотя бы один танец с гиацинтом твоей души! -- Подожди, генацвале, мы еще не огляделись даже. Шота уходит, а\n",
            " 278 Шотландец, разглядывая фотографию своего приятеля, говорит: -- Почему вы с женой сфотографировались на таком рас- стоянии друг от друга? -- Если мы когда-нибудь разведемся, то сможем разрезать фотографию и каждый возьмет себе свой снимок. \n",
            " -- Ребе, муж хочет со мной развестись! -- Почему? -- Говорит, что не может с такой уродиной жить. Раввин берет толстую книгу, долго листает ее, наконец поднимает голову, смотрит на женщину и говорит: -- Твой муж прав. \n",
            "  Самолет терпит аварию, в этом самолете всего два парашюта и три мужика, которые спорят, кому же все-таки достанутся парашюты.   Один мужик начал рыдать и говорит:   - У меня жена, дети, кормить надо.   Ну, дали ему, он спрыгнул. Второй третьему говорит;   - Держи парашют, прыгай.   - А как же \n",
            "  Разговаривают приятели:   - Слушай, меня уже комары достали! Всю кровь высосали!   - Ты, наверное, вкусный!   - Не, - смущается первый, - жена говорит - не вкусный!   - Так она не там сосет... !\n",
            "  Муж с женой спят вместе в кровати. Муж во сне ворочается и причитает:   - Наденька, Наденька... .   Жена просыпается и бьет по лбу мужу:   - Что за сучка, какая ещё Надеька?   - Надень-ка на меня одеяло, а то что то ноги мёрзнут!\n",
            "  Встречаются два друга. Один другого спрашивает:   - Ты, говорят, женился?   - Да, - отвечает тот.   - Ну и как?   - Пить нельзя, курить нельзя.   - Жалеешь?   - Жалеть тоже нельзя.\n",
            "  Ревнивый муж жене:   - А с Брюсом Виллисом ты бы переспала за миллион долларов?   Жена:   - Переспала бы Если бы насобирала\n",
            "  Нет в семье денег. Жена говорит муж:   - Давай Я пойду на трассу зарабатывать.   Муж:   - Хорошо, Я буду сутенером.   Так и сделали. Жена стоит у дороги, муж сидит в кустах.   Останавливается машина. Водитель спрашивает:   - Сколько стоит?   Жена:   - Подожди секунду? - и бежит в кусты к му\n",
            "  В полицейский участок вбегает человек и говорит:   - Арестуйте меня, я ударил свою жену!   - И убили ее?   - Что вы, даже не поцарапал.   - Ну, это пустяки. Можете идти.   - Ни за что! Она стоит там за дверью!\n",
            "  Жена возвращается из командировки. В квартире бардак, пылища, пустые бутылки валяются. В раковине посуда не мытая, на столе тоже, пепельница полна бычков...   Муж в соседней комнате сидит в трусах, смотрит по телевизору хоккей.   Жена:   - Ох и не хотела я этого, ох и не люблю я такое делать, но\n",
            "  Пришёл муж домой с зарплатой,отдал её жене.Жена пересчитывает:   - Вань,не хватает 100$   - Ах,да дорогая,мужики пригласили в стриптиз,я не разу не был в стрептизе,вот и потратил 100$   - И тебе понравилось?   - Да   - Лучше бы ты мне дал 50$ и я бы тебе такой стриптиз устроила...   Дал он же\n",
            "  Муж приходит домой на рассвете. Жена спрашивает:   -Ты почему так поздно?   -Я -свободный человек! Когда хочу, тогда и прихожу.   На следующий день под утро пришла жена.   -Ты почему так поздно пришла?   -Я - свободный человек или нет?   -Ну уж черта с два!   -Правильно! Так вот, когда отпус\n",
            "  Кит плавает вокруг самки и с упреком говорит:   - Сколько стран, сотни экологических организаций, выдающиеся   политические лидеры, миллионы людей - все они борются за то,   чтобы наш вид выжил, а ты мне говоришь - голова болит...  \n",
            "  - А какова причина вашего развода ?   - У нас разные интересы. Она интересуется мужчинами, а я женщинами !..  \n",
            "  - Куда бы ты хотела пойти отметить наш юбилей? – спросил муж у жены.  - Туда, где я ещё никогда не была! – воскликнула супруга.  - Как тогда насчёт кухни?!  \n",
            "  Молодой папаша говорит утром жене:   --Ты слышала, сегодня ночью наш ребенок жутко храпел!   -- Не волнуйся, это памперсы, которые дышат!!!\n",
            " Elenaro[дарксайд] а ты зря.. ХанСоло рулит.. :) Martinas и чем он рулит?.. Martinas хотя рулит конечно.. на то он и пилот.. \n",
            " jsn у меня дома наступил 93-ий годjsn в смысле, парламент кончился, продымив своё \n",
            " stiff Помните, чрезмерное употребление пива ведет к женщинам.HHBak stiff, нефиг заходить в сортир, когда там сидит женщина... \n",
            " Iruta-san сегодня по максимуму крутили мумий тролляЗлобный_Псих куда мир катиться??Iruta-san после строки &quot;может выпьеш йаду&quot; я подавился квасом)) \n",
            " bob: в  глубокий психологический анализ ее сходу втянуть не удалось, однако я думаю что это вполне будет возможно в будущемMe: Анализ - ладно, а как насчет глубокого орализа? \n",
            " селективная_коала Никошка, ща как дам Nikon сходи лучше мужу дайселективная_коала вы такие все однообразные * селективная_коала уже давала сегодня мужу 2 раза Nikon сходи ещё дайселективная_коала нет ужселективная_коала я лопнуселективная_коала попожжа дам. Nikon в тебя что, литрами вкачивают?селект\n",
            " [uln]fire_blade оппа 14 мбит поднялосьEmpiric Лучче б у тя куй поднялсоEmpiric раз в жизне[uln]fire_blade на тя чтоли?Empiric Ну почему сразу на меня? На маленькую пищащую либс! * libc has joined #guest \n",
            " Serge привет, ты где был?Chriss Привет, не поверишь - в реале \n",
            "  Bregor Я в шоке....  Bregor Иду по улице, смотрю на забор, а там так размашисто написано &quot;Х@Й&quot;.  Bregor Ну и что, спросите вы? А то, что так и написано, через &quot;@&quot;. Довели Bregor модераторы страну, блин. \n",
            " biLiaL сеня было - билиал -чугунная ваннаNEC[оба] успешно?biLiaL на редкость легкая кстатиbiLiaL я один сзади нес и двое мужиков спередиSpongeBob ты ценник чтоль нёс?biLiaL закрывашку от дырки \n",
            " Юлка (13:19:08 17/02/2006)Дрон, у тебя паспорт с собой? Drone (13:19:27 17/02/2006)С какой целью интересуешься? Юлка (13:19:49 17/02/2006)ща блин заявление падавать пойдем Drone (13:20:56 17/02/2006)Тогда нету. \n",
            " xtz ты свечи в авто как часто меняешь ?HiMem вместе с авто \n",
            " ann- А где в Москве покупается охотничий кастет ?ann- По идее, понятное дело - в охотничьем магазине. ;-) Но где такие в Москве есть ?Poul Охотничий кастет - это пять.gass пи**ец, друзья.* Arkenoi/#fidorus рыдает \n",
            " #windows: artjom у ня пошёл 121 день аптайма * artjom крестится пяткой Bliznezz|home фря? artjom сам ты фря artjom у нас как канал называется? \n",
            " Joah У меня хомяк сдох...[~нолевайа-омг] Дай ссылку[~нолевайа-омг] В смысле сочувствую \n",
            " Vyndik: Достала сессия... Убейте меня кто-нибудь?Phanthom: kill -9 VyndikVyndik: я просила убейте меня....но нэжноPhanthom: kill -15 Vyndik  \n",
            " W_i_s_h nikita800:  у меня сегодня один урод увольнялся 12 раз под диктовку заявление переписывал...... думала убью..... я уже и форму набила и как заполнить написала, так этот баран переписал дословно........ &quot; ...... я Ф,И.О., прошу меня уволить.......W_i_s_h вот так вот Ф.И.О. - и написалW_i\n",
            " AZ Срочно  ищутся   фотки(желательно   в   оцифрованном   виде) AZ изображающие    сцены    анабиоза    (временной    заморозки AZ организма).  Hужно  чтот  вроде  изображения  саркофагов   с AZ помещёнными внутрь организмами( люди, животные).Курица в морозилке подойдет? \n",
            " KiberGus Сегодня 256 день в году. День прогера. А нас еще никто не поздравил.ManMachine А 128 - чей? А 64? 32?KiberGus НедопрогераKiberGus Т.е. кодера.KiberGus А 64 - день кодера на паскале, 32 - на Visual Basic&#39;еManMachine 16 даже страшно подумать - на Коболе? \n",
            " Opa (11:23:58 20/10/2006)А я себе память в комп добавил, теперь 1Gb. Запускается 2 вмвара одновременно. Счас висят линух и XPпро. Блеск!  CRN (11:26:30 20/10/2006)блин! тоже хачу так!!! Opa (11:27:52 20/10/2006)Ну дык фчём же дело? &quot;В связи с возникшей производственной необходимостью прошу вас.\n",
            " Slider: у женщин же все подругому... даже если ты не глуп и симпатичен, большинство женщин будут считать тебя похотливым казлом, пока вы не прообщаетесь год. прообщавшись год она будет считать тебя латентным педарасом, потому что ты так ниразу и не домогался ее  \n",
            " MotOrhe@D :ну... мессенджер можно написать на опенгле :)) ZUB :ага, еще сделать его полноэкранным 3д-шутером, и чтобы побеседовать с контактом, нужно добежать через пустыню до нычки, купить у связного карту и на надувной лодке проплыть по горной реке до ближайшей деревне, где в одной из хижин будет \n",
            " тохо: сцуко.. такое ощущени, что у каждого советского человека была своя фотолабораторияpluto: а чем исчо было увлекаться простому совковому челу? :))тохо: нуда.. секса то небыло... \n",
            " [1]: письмо на наш офис от начальника[1]: Я думаю, что не стоит напоминать о том, что по стенам не бегать, на стульях не кататься, на столах не танцевать, водой не обливаться, едой не кидаться, мусорки не поджигать, курить только в отведенном месте, бычки на полу не растирать, из окон не прыгать и т\n",
            " Димко из ЯСЕНЕВО (19:39:22 8/03/2007)я работаю не ради денех, а ради удовольствия  Димко из ЯСЕНЕВО (19:39:44 8/03/2007)правдо, ни денех ни удовольствия пока не получал =/  \n",
            " xxx Если к кириллическому тексту в кодировке Windows-1251 20 раз подряд применить перекодирование KOI8-R&rarr;Windows-1251, в итоге будет получен исходный текст.yyy гонишь!...yyy ну ты и гад, я теперь успокоиться не смогу, пока не проверю. : \n",
            " Ксардас: Хочется набить кому-нибудь морду, но силы только на то, чтобы пальцами двигать..Ксардас: Чувааак! Будешь в анрыл рубиться? \n",
            " Братья и сестры, и... другие обитатели бездны... В это не легкое для нас время, когда гнусные еретики распространяют свои ложные учения об умножении числа в паскале на минус один при помощи демонических многоуровневых формул и плясания с бубном, когда презренные книгочеи распространяют цитаты из сво\n",
            " mastikhinне в курсе, у вас почта завтра работает? Ingwarгде почта? Ingwarна работе? mastikhinпочтовое сука отделение номер сколько-то там mastikhinгде люди шлют БУМАЖНЫЕ, представляешь, БУМАЖНЫЕ письма \n",
            " Technoberserk: пусть тебе приснюся ЙА )kamouflage:  ха.....прикинь че снилось сегодня утром...)Technoberserk: чо?kamouflage: просыпаюсь, встаю с постели, иду смотреть порнуху. на видеомагнитофоне. что-то щелкает, картинка смазывается... я просыпаюсь опять. думаю: &quot;приснится же такое. а идея хор\n",
            " он приглашаю тя на ужин при свечах, плавно переходящий в завтрак...она мы чё всю ночь жрать будем? \n",
            "  плять..только что из клавиатуры вылез таракан...  сел на &quot;4&quot; на цифровой клаве... изучаем др друга....  кажется пора прекращать есть за компом \n",
            " _O_Недавно узнал, что в Китае более 97,000,000 человек с фамилией Ван._O_Ах...ть, 2 Украины :crash: Да, Wang - самая распространенная фамилия в мире.Вообще с китайцами бывают смешные истории. Я teaching assistant, иногда провожу классы вместо своего профессора. И вот как-то после класса беседую с од\n",
            " Тори:Че делаешь?Оля: Да ниче, скучно:(Тори: Ну позови вечерком Олега в кино;)Оля: Ты че?? Какое кино?? У меня месячные:( \n",
            " embargo:звоню ща пользюку(у него глюкает IE), типа ща к вам подключюсь, поставлю вам Оперу.Юзверь так задумчиво отвечает:&quot;Вы знаете, я больше балет люблю.&quot;Минут 5 меня клинило-не мог вспомнить браузера Bullet. \n",
            " Mrnik(23.17) Голуби тупые и тормозные птицы...Tsun(23.19) Ты что! Голуби - Птицы Мира!Mrnik(23.20) Эмм... Ну... Какой мир, такие птицы... \n",
            " xxxx Ох бл&, дайте яду что ли... Только холодного! \n",
            " онТебя мне очень стало не хватать...онВидеть чаще я тебя желаюонаколу йоде желаешь отдать :Dонаизвини \n",
            " f4444|грусть что у тебя за ацкей статус  f4444|грусть в асе RebeL Когда В статусе &quot;Фхтагн, Ктулху, Ебитесь в рот&quot; - все нормально, а как &quot;Сердечко ^_^&quot; так надо прикопаться... \n",
            " Thinspo: как дела? lolly: прив, все классно, муж на рыбалку свалил, никого нет, никто меня не трогает, сижу вторые сутки одна, ем шоколад, смотрю всякую слезовыжимательную х%йню по двд и кайфую =) из дома не выхожу ваще =) класс. Thinspo: вообще-вообще не выходишь? :)) lolly: воощбе-воощбе =) Th\n",
            " Eleon (13:19:35 7/06/2007) Писец. Это какую ж репутацию надо иметь, чтобы к тебе подходил начальник охраны холдинга и спрашивал, является ли Алказельцер хорошим средством от похмелья... \n",
            " kawai_no_oni блин, нуно наладить производство лайф-паков для компутерщиков kawai_no_oni в паке сигареты, пиво, и ништячок kawai_no_oni типа хеппи-прогер \n",
            " Коллега[home] ужос нах, такие рецензии народ пишет, что фильм заранее смотреть страшно &quot;секретное подземное подразделение американских Воздушных сил&quot; Guest0 А рота конных водолазов в его составе есть? \n",
            " она: Я тебе нравлюсь? да она: почему? по тому что пинг у тебя ровный и меньше 1 ms \n",
            " Kenty: ты едешь или идешь?) @llora: 50 на 50 Kenty: самокат? ) \n",
            " AVanGarD: бугага, у меня водяное охлаждение) Кошку помыл, а она в открытый системник залезла греться =) \n",
            " ща читаю форум велосипедный, тема &quot;защита на яйца&quot; в разделе &quot;Экипировка: - что посоветуете мне нацепить на на мои шары.баксов за 150? - у меня знакомый лыжник-ньюскулер плюшевого мишку в трусы засовывал, когда по перилам катался. Говорил, что помогает, когда получаешь перилой по ша\n",
            " A-lex: у тебя что, ща месячные? Конфетка: нет, с чего ты взял? :-[ A-lex: пошли в кино вечером! Конфетка: пошли =) Конфетка: *STOP* к чему был предъидущий вопрос??? О.о \n",
            " FEB Сегодня поздравил коллегу с днём админа, он похлопал глазами, а потом в ужасе переспросил &quot;стоп, а сегодня что - пятница???&quot; \n",
            " Отзыв о работе на фотосайте: &quot;Кадр прекрасен, работа заслуживает всяческого уважения и восхищения, только, плз, не выкладывай сюда больше подобное дерьмо&quot; \n",
            " Aneron: Когда свадьба? Murder: с кем? О_О Aneron: С тем,кого любишь:) Murder: ооо. Murder: с пивом к сожалению не расписывают. \n",
            " 1. -В чёрной дыре материя сжимается и сжимается. Это такой офигительный архиватор материи. Вот так сжимается, сжимается, а потом как вывалиться всё наружу.  2. - Точно,  чёрные дыры - это бекапы нашей вселенной. И когда наступит полный пи%&ец, прийдёт мега админ и накатит последнию сохранённыю верс\n",
            " alt блин, наконц то жизнь стала налаживаться alt я вернул свой акк на ВоВе, выгодно толкнул свой акк линейки alt у провайдера наконец то закончились лаги ибаги alt и Машка мне неделю назад все-таки дала! ctrl ты далпаеп ctrl ты наверно забыл, что ctrl из-за линейки и вова ты праипал инст ctrl\n",
            " DarKneSS: E dfc d cthdthyjq tcnm iyeh vbybC&amp; Tamerlan: Да Эля, у нас в серверной есть мини юсб... DarKneSS: Z pjqle djpmve&amp; Tamerlan: Да, можеш взять... \n",
            " xxx: Стою я как-то летом в парке, под деревом в тенечке и пью пиво. Весь такой из себя красивый, девушкам проходящим улыбаюсь. И одна, в общем, вдруг улыбается в ответ. Ну, я держу ее глазами, подмигиваю... и тут вдруг - херакс! - чувствую. что-то мне на голову хлопнулось. Ну, я держу пиво в одной р\n",
            " В кабинете за смежными столами сидят программер С++ (отлаживает чужой драйвер принтера чеков для кассы) и программер 1С. Программер 1C запускает отладку, и вот уже в тысячный раз звучит раздражающий скрежет и вылезает чек. Сисадмин (истерично): бл&яя как я уже ненавижу этот бл&дский девайс !!! Про\n",
            " 111: пи%&ец. теракт 111: у меня ща стиральная машина ускакала на полметра в сторону и забаррикадировала дверь сортира изнутри 222: хахаха,киборги... смотри как бы пылесос сзади не подошёл :Е \n",
            " x:бл& пи%&ец x:сначало я просто забывал везде свою флэшку х:потом я прицепил ее на ключи, и стал забывать флэшку вместе   с ключами от дома y:хых х: и наконец, взял копроновую нитку, метра полтора, и привязал флэху себе к джинсам х:бл&, и было нихуя не смешно когда я в областном суде наевернул \n",
            " check Увидел в городской газете статью под названием «Всемогущ ли C?» check Испугался. check Оказалось, что про витамин. \n",
            " On #ubuntu-ru  Arux господа.  Arux меня видно, или я не так настроил utf-8?  Brainenjii ^_^  fghd Arux: бНОПНЯ %)  Arux fghd: o shi!  aske fghd » не катит це cp1251-- koi8-r  Brainenjii Ј РґРµРІСѓС?РєРё  Brainenjii ^_^  aske во  aske ^^  fghd &amp;#199;&amp;#200;&amp;#205;  Arux how 2 use\n",
            " Печатка - наружка. Пересылаем файл EPS 8-ой версии... работа срочная... (печатка): Че вы нам прислали? Писали же ВАМ, что мы принимаем только в Кореле!! (печатка): Чем ЭТО открывать? (студия): это файл формата Adobe Illustrator. Специально для импорта в Корел. .... через 20 минут... (печатка): \n",
            " volokhonsky: чтобы в гарантийном центре компьютерной службы вам быстро и без долгих распросов заменили флешку, надо сказать мальчику, принимающему бракованный товар, что записали на неё три порнофильма, но не можете их стереть... \n",
            " Висту придумали для того, что сразу все полюбили ХР \n",
            " Легион2135  как  будет по немецки гот мит унс?  Джекичян  Bog s nami \n",
            " 1: сегодня видел у тя в офисе на двери мелом кто-то готично вывел &quot;ЛОКИ&quot;. видать продвинутая молодежь к вам ходит, скандинавами интересуется.. 2: а на втором этаже ты был? 1: неа 2: там на двери серверной тем же почерком написано &quot;КУЙ&quot; \n",
            " doze мля... ненавижу программы под линукс.  doze ты ее просишь сделай мне стол  doze она дает кусок фанеры 1х1м.  doze Ты спрашиваешь что это? - Стол - А ножки где? а почему занозы? - А... ну установите четыре плагина-ножки, плагин лакированное покрытие, и чтоб это все держалось еще десято\n",
            " DeepNightBird: Т1000 прячуца в градусниках и ждут часа Х! \n",
            " слушай, мед ведь остается нормальным, если его слегка прокипятить? Какой медведь?! \n",
            " Admin: чота холодно Admin: пойду еще один сервак включу .. \n",
            " Civilian как ты относишься к sqlite? :) Civilian я просто думаю в проге sqlite использовать NRNDDA а почему не PostgreSQL ?  Civilian а почему ты на мух охотишься мухобойкой, а не огнемётом? \n",
            " xxx: а ты чего сегодня кольцо на большой палец надела? yyy: а что? xxx: ты знаешь, что означает у девушки кольцо на большом пальце? yyy: то, что с других пальцев оно слетает xxx: да уж... и не возразишь... \n",
            " У каждого ИТ-шника перед смертью появляется окошко с надписью &quot;ПРОЖИГ ЖИЗНИ УСПЕШНО ЗАВЕРШЕН&quot;. ©sonic \n",
            " С возрастом hardware превращается в software.  \n",
            " Подсластили называется - ложку меда в бочку дегтя.  \n",
            " Отказ - это предложение поднять цену  \n",
            " Лошадям глаза закрывают шорами, а народу - телевизором.  \n",
            " Живешь как мертвый, умирая, оживешь.  \n",
            " Как правило, одного взгляда достаточно, чтобы стало понятно, что человек занимается непонятно чем.  \n",
            " Не трать свою жизнь на затыкания дырок в бочках с дерьмом!!!!  Уважай бочку, отойди в сторону, дай ей удобрить землью!!!!  \n",
            " Основная ошибка в жизни - предположение о том, что люди действуют на основе мыслительных процессов..  \n",
            " когда все стояли в очереди за мозгами, он стоял за гемороем  \n",
            " &quot;... Жизнь нагаживается...&quot;  \n",
            " На шах любителя гроссмейстер ответил матом. Трехэтажным...   Сергей Сезам  \n",
            " Пьедесталы придумали карлики. Лорди Лорди  \n",
            " Знал себе цену, но для порядка всегда набавлял рублей пять..   Сергей Сезам  \n",
            " Если бы люди грешили молча, то это было бы хорошо (хотя и не отлично). Но, каждый согрешивший, считает себя героем, достойным божественных слов (или: божественной славы) - это плохо.  \n",
            " Водку больше пить не буду, завязал шабаш,  привратися водка в воду, а ман...а в шалаш.  \n",
            " ЕдРо без Путина - как автомобиль без руля  \n",
            " Если парень теряет голову и ломится в твою дверь, то очень важно,  по какую сторону двери он находится.  \n",
            " Одной красотой спасенью мира не поможешь.  \n",
            " Если к старости ты не знаешь телефонов скорой помощи, милиции и пожарных,  значит, жизнь прошла счастливо. =  \n",
            " В таком пылу добрачных отношений Нам было не до брачных отношений.  \n",
            " Спал, как убитый младенец.  \n",
            " Единственное, что могут плодить пни, так это паразитов.  \n",
            " Вырастет из дрына сын, если папа Карло.  \n",
            " От некоторых шуток по телевизору даже экран становится плоским.   \n",
            " Теща с зятем жили душа в душу: она называла зятя божественной ошибкой,  а он ее опускал.   \n",
            " Уточненное название сериала &quot;Остаться в живых&quot; (после серии 14 августа)  &quot;Остаться в живых! Подпись: Павлик Морозов&quot;  \n",
            " Зачем вы, девушки, кретинов любите?  \n",
            " Он таскается за ней потому что тащится от нее  \n",
            " Обманки обещалки, а дураку  радость.  \n",
            " Мудрые смотрят на этот мир взглядом  художника, глупые - взглядом маляра.  \n",
            " Остался в истории как самая ничтожная личность всех времен и народов.  \n",
            " Не демонстрируй людям свое счастье - не отравляй им жизнь! Не  рассказывай о себе ничего хорошего, если хочешь сказать что-нибудь  приятное !  \n",
            " Современные книги измеряют не страницами, а килобайтами.  \n",
            " Суть капающей воды не в размере капли, а в частоте падения.  \n",
            " Осторожно: звери зарываются  \n",
            " Словосочетание &quot;независимый депутат&quot; звучит приблизительно так же,  как &quot;независимая проститутка&quot;.  \n",
            " Дареный верблюд горбатым не бывает  \n",
            " Платон мне друг, но сало надо перепрятать  Ukiwa the cheetah  \n",
            " Бороться с маразмом - это как бой с тенью: результата ноль, а со  стороны выглядишь идиотом.  \n",
            " Лучше умереть от любопытства, чем из-за него...  \n",
            " Какою женщина не будь , а все равно ее е...т !!!  \n",
            " Спорить с водителем автобуса может только... Машинист электропоезда!  \n",
            " Нет тела, нет и дела.  \n",
            " Мужуки живут меньше, потому что плачут в череп.  \n",
            " Женщина, у которой только один мужчина, является одинокой женщиной.  \n",
            " Не все йогурты одинаково полезли.  \n",
            " Блин, Россия - это страна, где выбирать можно только между Путиным  и Новодворской.. Абзац  \n",
            " Перефразируя классику: &quot;Зачатие - есть продукт при полном непротивлении  сторон&quot;  \n",
            " Правило официанта: Быстро поднятый с пола бифштекс упавшим не считается.  \n",
            " Женщины не делают из мужчин дураков, они работают с уже готовым  материалом! Лара  \n",
            " Все дело не в том в чем дело, а в том, само дело в чем, вот в чем дело.  \n",
            " при покупке двух чебуреков - шкурка собаки бесплатно  \n",
            " С кем наши футболисты идут очко в очко?  \n",
            " А давайте расставим все точки над Ы !  \n",
            " Былое и Мумы. (С)Герасим  \n",
            " Если бог не дал человеку мозгов, то сколько не давай ему всего  остального, - все будет мало… © Snowyowl  \n",
            " Не бойся ложки, бойся вилки - один удар четыре дырки.  \n",
            " Порой полезно сымитировать крушение корабл&, чтобы с него сбежали  все крысы.  \n",
            " Старый Новый год - это Новый сэконд хенд.  \n",
            " Недопитая водка говорит о неуверенности в себе!  \n",
            " Толкни сосуд и из него плеснет то, чем он наполнен.  \n",
            " Банальное отверстие.  \n",
            " Ответ на:            Почему женщина, презирающая мужчин - это феминистка, а мужчина,   презирающий женщин - это пидорас?  А таки кто кроме пидорасов воспринимает женщин всерьез?  \n",
            " Победу никто отобрать не может. Могут отобрать только ее результаты.  \n",
            " Что за шум, а сраки нету?  \n",
            " Народная примета: Чем выше с утра сугробы на дорогах, тем больше будет в метро хорошо  одетых людей с интеллигентными лицами...  \n",
            " НИЧТО ТАК НЕ САЖАЕТ ПЕЧЕНЬ,КАК ПЛОХО ОТФИЛЬТРОВАННЫЙ БАЗАР!  \n",
            " Чем больше срок, тем меньше судимостей.  \n",
            " Так пить нельзя.  \n",
            " Сломал принтер-спас дерево.  \n",
            " Показать товар лицом о стол.  Sah  \n",
            " Король секса в сексе не участвует!  \n",
            " Все мои наезды - тебе же на пользу.  \n",
            " Как правило, самыми последними с днем рождения тебя поздравляют самые  близкие друзья.  \n",
            " Все знают, кто это такие и практически у всех есть начальники,  но почему никто и никогда не видел кончальников?  \n",
            " Надпись на стене больницы: Осторожно!! Голубой проктолог!  \n",
            " &quot;ТИХО ИДЕТ СъЕМКА!&quot;(Тверская)  \n",
            " следует с осторожностью пользоваться методом кнута и пряника по отношению к мазохистам-диабетикам  \n",
            " То, что никогда не должно было произойти - происходит в первую очередь!  \n",
            " Возглас ГАИшника: &quot;Никакой оргазм не сравним с тем состоянием, когда останавливаешь пьяного водителя&quot;.  \n",
            " Плох тот отморозок, что не мечтает стать авторитетом.  \n",
            " Математическое: fuck2real  Afon  \n",
            " Счастье так непривычно..  \n",
            " У каждого брэнда своя легенда.  \n",
            " Не стоит сильно требовать от тех, кто заседает в Думе, ведь это не цвет общества, а его срез. Причем из области ниже пояса.  \n",
            " Строим жизнь как по писанному, а выстраивается как по каканному.  \n",
            " Граф Дуракула  \n",
            " Сообщение ТАСС. Сегодня, 25 августа, состоялись советко-чехословацкие переговоры. С чехословацкой стороны в них принял участие т. Дубчек, с советской - Т-54.  \n",
            " Чем реже женщину мы это... Тем чаще женщина того...  \n",
            " Мир полон желающих: некоторые желают работать, остальные желают позволить им работать.  \n",
            " Старость - это легкий спортивный кашель, переходящий в рвоту.  \n",
            " Философия - это научный пессимизм.  \n",
            " Он был воспитан в духе марксизма-бандитизма...  \n",
            " Любовь-морковь. Главное в этом деле - держать письку морковкой. Но более важно - чтобы не откусили.  \n",
            " Ничто не может так испортить цель, как прямое попадание.  \n",
            " Ахеризмы  \n",
            " Жевачки - это тоже резинки, только другие.  \n",
            " Человек портится с головы.  \n",
            " Как мужчины могут использовать секс для достижения собственных целей? Секс и есть их цель!  \n",
            " Страна восходящих солнцевских.  \n",
            " Целенаправлений подход - подход по направлению к целке.  \n",
            " Очевидно, что лучшим решением Ваших проблем будет самоубийство!  \n",
            " Сперва они сделали из этого говна конфету, а теперь доказывают, что эта конфетка говно.  \n",
            " Пить вредно, зато похмеляться полезно.  \n",
            " Когда человек сильно пьян, его трудно поставить даже перед этим фактом.  \n",
            " Критические дни - это хорошо, но только в первый день!  \n",
            " Хорошее начало... полдела обкончало.  \n",
            " Мало попасть в ворота, надо еще промахнуться мимо вратаря. bonzai  \n",
            " Если ты проснулся и видишь рядом с собой красивую девушку,  то пора встать и вырубить телек.  \n",
            " Чем чаще девушек мы любим, те больше нравимся мы им!  \n",
            " тампакс - не дай себе промокнуть  \n",
            " У хохла была москалька - он ее любил.  Она съела кусок сала - он ее убил.  \n",
            " Маньяком можешь ты не быть,  Но сексуальным быть обязан. (С) Отелло  \n",
            " Кошмар Фрейда - фаллос Мебиуса.  \n",
            " Купила русалка велосипед...  \n",
            " Не имей 100 рублей, не имей 100 друзей, а имей одного дружищу,  который имеет тыщу! Василь  \n",
            " Когда-то давно путь к сердцу мужчины лежал через желудок, теперь - через интернет.  \n",
            " Сменил ориентацию: раньше мочился, повернувшись лицом к унитазу,  а теперь - затылком.  \n",
            " Не пытайтесь понять женщину, а то, не дай бог, еще поймете!  \n",
            " Платон мне друг, но либидо дороже.  \n",
            " Нечто среднее между мартышкой и слоном, в общем - собака.  \n",
            " Как первую брачную ночь проведешь, так и остальные первые брачные ночи проведешь.  \n",
            " Все проходит. Даже истинность афоризмов царя Соломона.  \n",
            " Лотерея - наиболее точный способ учета количества оптимистов.  \n",
            " ...А стоит ли свеч этот геморрой?..  \n",
            " Образование - это способ приобретения предубеждений более высокого  порядка.  \n",
            " Какой-такой копирайт - ведь бог с тебя не берет за вдохновение?  \n",
            " Большое любится на расстоянии. (С)Михалыч  \n",
            " Резать правде матку.  \n",
            " Писями по воде виляно...  \n",
            " Некрасивых женщин не бывает, бывают некрасивые девушки!  \n",
            " Продается нервная система 75 г.в. не битая, не крашенная, заводится  с полоборота...  \n",
            " Если хочешь купить коврик для мыши... посоветуйся с кошкой.  \n",
            " Ты такая веселая. Может ты и спишь с улыбкой во рту  \n",
            " Навеяно выборами: Именно чайники  развивают самую кипучую деятельность.  \n",
            " Две гетеры за стеной...  \n",
            " Позиция Госдумы по отношению к Путину полностью соответствует   Камасутре.  \n",
            " в жизни обманывают только три вещи: часы, весы и женщины.  \n",
            " Сеанс одновременной любви...  \n",
            " Первые признаки того, что вы стали родителем:  а)Когда он встречается с девушкой - вы обязательно должны ввалится в тот-самый момент.  б) Даже если он получит Нобелевскую премию, вы будете спрашивать его о делах на учебе.  в) Он не можешь сделать что-то лучше, чем вы.  г) Он может кое-что \n",
            " Женатый человек - это мотоцикл с коляской  \n",
            " Пережили культ личности, переживем и культ наличности  \n",
            " Делать отрицательное - это еще на нас возложено. Положительное дано нам уже.  \n",
            " Он выпил и рассудил трезво.  \n",
            " Бросить в женщину камень можно только в одном случае: если это камень драгоценный  \n",
            " Рабы не мы, рабов хоть как-то кормят!  \n",
            " Объявление. Для проведения предвыборной кампании кандидату в депутаты от  КПРФ требуются БЕШЕHЫЕ БАБКИ (150-200 чел.)  \n",
            " Годовых колец много, а пень пнем.  \n",
            " Я плюнул вверх, а ветер резко прекратился....  \n",
            " Никакая защита от дурака для талантливого дурака не помеха.  \n",
            " Если Вы медлите предложить руку и сердце даме она может сделать это за Вас...  \n",
            " Телеграмма с курорта. &quot;ВАСЯ ЗПТ ВСЁ РАВНО ЛЮБЛЮ ТОЛЬКО ТЕБЯ ТЧК&quot;  \n",
            " При коммунизьме все жены должны быть общими, а денег  у них не должно быть вообще !   \n",
            " Ешь ананасы, рябчиков жуй! День твой последний. ПРИХОДИТ БУРЖУЙ!  \n",
            " Худая женщина хуже доброго мужчины.  \n",
            " &quot;Устами младенца балаболит истина...&quot;  \n",
            " Чем тупее угол  зрения, тем шире мировоззрение.  \n",
            " Чем больше у человека проблем тем меньше ему нужно для счастья.   \n",
            " Смотрю туда, куда не вижу.  Идиот  \n",
            " А память покрыта такими большими долгами...  \n",
            " Не ломись в открытую дверь - кругом полно закрытых!  \n",
            " Люди должны верить в светлое будущее, иначе они потребуют светлого настоящего.  \n",
            " Курс доллара - для чайников! (бесплатно)                              Центробанк.  \n",
            " На самом деле я интеллигентный, добрый, милый  и смешной .... ПРОСТО Я ОЧЕНЬ ЛЮБЛЮ ПОРЯДОК!!!  \n",
            " Он нанес ей глубокую моральную травму чуть ниже пояса.  \n",
            " Скажите, Вы в мультфильмах не снимались?  \n",
            " А что плохого в онанизме? В конце концов, вы занимаетесь любовью  с человекoм, которого больше всего любите (Вуди Аллен).  \n",
            " Если хочешь быть здоров, ешь один и в темноте.  \n",
            " &quot;РЕКОРД. 15 июня 1998 года 23589 разных посетителей заглянули на эту страницу 55422  раза.&quot; &quot;...Массовая популярность не свидетельствует ни о таланте автора, ни о достоинствах  произведения. Свидетельствует лишь о свойствах и потребностях публики. В данном  случае это массовая пот\n",
            " ...Ким Бэсинджер в колготках &quot;Голая Леди&quot;...  \n",
            " В большой конторе дыроколом не щелкают!  \n",
            " Каламбур со словом каламбур? запросто: калом бур,зато телом бел.  \n",
            " Понимание приходит с копытом.  \n",
            " Не горячись - не сморозишь!  \n",
            " Хорошо, когда хорошо кончается …  \n",
            " Что в имени тебе моем, ты оцени груди объем.  \n",
            " Лектор, делай свое дело молча! (Надпись на кафедре).  \n",
            " От Подиума до панели - один шаг, а вот в обратном направлении - целая пропасть  \n",
            " Качество выпитой вчера водки постфактум определяют по вонючести  сегодняшнего дерьма! (О.Адоров, журналист)  \n",
            " Масса, падающая на хвост, обламывается  \n",
            " Три тополя - и оба на Плющихе !  \n",
            " Один в поле не убежит.  \n",
            " Без пруда не вытащищь и рыбку оттудова!  \n",
            " - Вы выходите на этой остановке?- Нет, не выхожу.- Зря, хорошая остановка!\n",
            " - Где тут у вас район ста баксов? - Чего? - Мне сказали, что все красивые девушки у вас в районе ста баксов...\n",
            " - А я себе пупок проколола!- Не ври! Он у тебя уже был!\n",
            " Убеждённый холостяк говорит приятелю: - Женщины хуже гангстеров. - Это почему? - Потому что гангстеры требуют кошелёк или жизнь, а женщины и то и другое.\n",
            " Краткое объявление в газете:«Боксёр, 2 года, ищет невесту». В ходе обсуждения этого объявления последовали такие комментарии:- Да здесь, наверно, опечатка – этому боксеру не два, а 22 или даже 32 года!- Да нет, наверно, он уже два года невесту никак не может найти!- Придурки, да это же объявление, п\n",
            " Я читала, что Линкольн учился у камина, Моцарт сочинял музыку при свечах, а Галилей работал при свете масляной лампы. Неужели никто из них не додумался поработать днем?\n",
            " Мел Гибсон, ободренный прокатным успехом своего фильма &quot;Страсти Христовы&quot;, подумывает об издании книги, основанной на фильме.\n",
            " Два скалолаза лезут вверх по отвесной скале. Один срывается и падает вниз. Другой:- Вась, ты не ушибся.Первый:-Нееееееет, еще лечу....\n",
            " - Я когда молодым был, у меня чл#н был 45 сантиметров!- А сейчас?- А сейчас я ту линейку выбросил...\n",
            " Секс по телефону:... О, мой сладкий, мой дорогой! Вот я расстегиваю тебе ширинку...Достаю твой могучий член... Массирую его своими нежными бархатнымируками... Ой!!!- Что такое?!- Прячься скорей!! Муж идет!!!\n",
            " Англия, публичный дом, хозяин: - Джером, почему такой шум, чем не довольны девушки? Зарплата маленькая? - Hет, сэр. - Клиенты не устраивают? - Нет, сэр. - Так в чем же дело? - Так ведь бл#ди же, сэр!\n",
            " Квартира. Гулянка. Все пьяные. Разбрелись кто куда по углам, уединившись парами. Из одного угла слышится:- Ах, какая девушка... Какие плечи... какие руки, боже, какие руки... какая грудь!.. какие ноги... а где ноги??? тьфу ты,опять гитару подсунули!\n",
            " Объявление: Продаю почку 1970 г. в., в хорошем состоянии, 3000 л пива пробега.\n",
            " Надпись на стекле автомобиля: Хочу быть Барби - сук@, все имеет!!!\n",
            " &quot;За совершение мошенничества разыскивается гражданин: на вид 40 лет, среднего роста, плотного телосложения, волосы черные вьющиеся, лоб низкий, глаза черные, нос широкий, губы толстые, усов и бороды не имеется; особая примета - негр&quot;\n",
            " Объявление:&quot;Молодым призывникам продам мочу. Недорого. Возможен бартер на водку.Дед Матвей&quot;.\n",
            " Жил был святой Ел хлеб с водой и спал с любой.\n",
            " Наша Маша плачет громко,У нее сегодня ломка.\n",
            " Милиционер разговаривает с алкоголиком: - Вот вы пьете, а при этом разве не знаете, что у нас кто не работает, тот не ест! - А я и не закусываю...\n",
            " Если жена не разговаривает с вами с утра, значит пьянка удалась.\n",
            " Зима. Берлога. Маленький медвежонок не может уснуть и просит старого медведя:- Деда, а деда, расскажи сказку.- Спи, медвежонок.- Деда, ну расскажи...- Сказал же, спи!- Тогда покажи кукольный театр!Старый медведь, вздыхая лезет под кровать, достает два черепа, одевает на лапы ирассказывает:- Петрович\n",
            " В семье свадьба. Молодожены закрылись в комнате и сутки  из нее не выходят. Младший братик невесты канючит:- Ма-ам, а чего они там делаю-ют? Мама строго отвечает:- Не твое дело!Но из любопытства заглядывает в замочную скважину. Жених, сидя верхом на новобрачной, пытается слезть. Из детской доносится\n",
            " Мы с товарищем вдвоемНа три голоса поем.Он фальцетом пропоет,Раз пятнадцать п#рданет,Ну а там и я пою.Подражаем соловью.\n",
            " Новогодняя вечеринка:- Наташ, тебе вина или водки?- Вина.- Красного или белого?- Красного...- Итальянского или грузинского?- Итальянского...- Сухого, полусладкого?- Да ну тебя! Давай водки!\n",
            " Вам неприятно видеть микробов под ободком унитаза?А представьте, что видят они!..\n",
            " Горбатый возвращается домой через кладбище. Вдруг голос из ниоткуда:- Мужик, ты горбатый? - Да, я горбатый.- Нет, мужик, ты не горбатый.Приходит домой, а горба нет. Мужик к другу - друг слепой. Рассказал, что с ним приключилось. На следующую ночь слепой идёт через кладбище.Голос из ниоткуда: - Мужик\n",
            " Самое раздражающее животное это хомячок танцующий на стекле в пенопластовых тапочках.\n",
            " Обмен валюты. Новая коллекция. Скидки 30 процентов.\n",
            " - Девушка, подарите мне вашу фотографию.- А вам зачем???- А я покемонов собираю...\n",
            " Телефонный звонок. - Алло это булочная? - Нет сливочная. - ОЙ! а вы тут сливки делаете? - Нет, дерьмо сливаем.\n",
            " - Дорогая, что за грохот на улице? - Да это банкоматы за банкиром бегут...\n",
            " - Кто эти люди в кожаных куртках с автоматами вокруг нашего дома?  - Крыша, сэр. - А почему они лысые?  - Черепица, сэр.\n",
            " Встречаются два экономиста и один другого спрашивает:- Ты понимаешь что сейчас происходит?Второй отвечает:- Я сейчас тебе все объясню!Первый:- Я тебе сам объяснить могу! Ты понимаешь, что происходит, или нет?\n",
            " - Представляешь, вчера вечером шла домой и в темном переулке на меня напал маньяк!- Какой ужас!- Во-во. И он мне это сказал!\n",
            " - Что такое шансонетка?- Женщина, у которой нет шансов.\n",
            " - А в этой камере сидит наша гордость, - сообщает начальник тюрьмы посетителям. - Когда он впервые попал к нам, он был неграмотным. Мы научили его писать и читать. Теперь сидит за подделку документов...\n",
            " - Ты знал, что Уткин - амбидекстр?- Кто-кто?- Уткин.\n",
            " - Ох, как мне хочется пойти в отпуск, - говорит известный критик приятелю, - чтобы найти время почитать хотя бы одну книгу из тех тысяч, что я критикую в своих статьях!\n",
            " - Привет, давно не виделись. Ну, как устроился?- Да всё просто супер! Работаю. Подо мной 5000 человек...- Ты что, стал директором?- Нет, сторожем на кладбище.\n",
            " - Хочу стать змеей!- Зачем?- Чтобы на работу лежа ходить!\n",
            " После просмотра фильма &quot;Май&quot;:- Девченки, я не поняла, а Гоша Куценко  кого  играл?\n",
            " Идут двое чукчей по тайге. Передний придерживает ветку и отпускает. Ветка заднего чукчу хлоп, тот упал и говорит:- Спасибо, что придержал, а то, однако, вообще убила бы.\n",
            " Ушли муравьи на войну воевать и самого младшего оставили защищать муравейник.Прошло 2 месяца приходят муравьи, а муравейника нет!И видят младший плачет!Его спрашивают:- Что случилось?он отвечает!тут медведь мимо нашего муравейника прошел и наступил на него!- Ну ты ему как-нибудь отомстил?- Конечно. \n",
            " Приходит царевич к царю и говорит:- Вот тебе голова Змея Горыныча.А царь ему:- Ну, как обещал, вот тебе рука невесты.\n",
            " - Смотри, Чебурашка, какая девушка!- Ген, ты чего!? Она ж страшная, как крокодил!\n",
            " На дороге один бухой встречает мужика и спрашивает:  — Скажите, а где здесь противоположная сторона улицы?  — Там.  — Да? Странно. А там сказали, что здесь.\n",
            " Программист сидит за компьютером, целиком поглощенный работой. Тут ему жена говорит: — Что-то я своего лифчика не нахожу. Ты его не видел? Муж, не отрываясь от экрана монитора: — Не знаю... поищи на Яндексе.\n",
            " Едут два мужика в автобусе. Один другому толкует: — Прикинь, позавчера приехал на работу, а у меня винт полетел! Мучился-мучился, ребят позвал — только под вечер еле-еле починили... А вчера — е-мое, джойстик отказал — опять весь день насмарку. Тут в разговор вмешивается третий мужик, стоящий рядом\n",
            " Холмс и Ватсон, идя по лесу, натыкаются на большую кучу дерьма.  — Ватсон, вы видите эту кучу? Знаете — что это?  — Нет, Холмс.  — Здесь мы с сэром Генри вчера увидели собаку Баскервилей. — А почему здесь только одна куча?  — Потому что я, в отличие от сэра Генри, все-таки успел снять штаны.\n",
            " Западные ученые установили, что в пиве содержится огромное количество женских гормонов. Так после трех кружек начинаются проблемы с управлением автомобиля После шести вы начинаете смеяться после любой сказанной чепухи. А после девяти можете писать только сидя. Hакуренный вусмерть планер стоит н\n",
            " Сидят в одной камере: зоофил, садист, никрофил и экстримал. Зоофил говорит: - Эх. Сейчас бы кошечку оттрах...ть! Садист: - А потом кожу с нее снять! Никрофил: - А потом сново оттрах...ть! А экстримал: - Мяу...\n",
            " Сын подходит к папе и говорит: Пап а пап, а пошли бабушке в рот дадим?! Папа: Ты что совсем страх потерял- это же моя Мама! Вовочка: ага а как моей маме так можно))\n",
            " За круглым столом сидят, как правило, с квадратными глазами. \n",
            " Два бомжа сидят возле помойки. Один: - Ты слыхал кризис в мире! Другой: - Это чё? - Ну как те объяснить Вот у тебя, например, есть друзья - олигархи? - Не-а. - А скоро будут!\n",
            "  - Уважаемые пассажиpы! Hаш экипаж пpиветствует Вас на боpту нашего авиалайнеpа. Полет пpоходит на высоте ....(от фонаpя) километpов, темпеpатуpа воздуха за боpтом минус ....(в общем, холодно) гpадусов. Hаш экипаж составляют самые совpеменные pоботы и автоматы. Полет идет ноpмально. Вся автоматик\n",
            " Мой муж маньяк-убийца, и часто пpиходит домой в кpовавых пятнах. Hо тепеpь я спокойна так-как у меня есть поpошок Тайд. Yours, Vadim \n",
            " 1917 г. - Алло, это Смольный? - Да. - А у вас пиво есть? - Hет. - А где есть? - В Зимнем. Уpppааааааа! \n",
            " Как показало вскpытие, больной умеp от вскpытия... \n",
            " После тpойной  свадьбы  новоиспеченная  теща  pешает  испытать  новых членов своей семьи - тpех затьев: Стаpшего - идут в лес, теща сpывается с моста и делает вид что  тонет зятек пpыгает и вытаскивает ее.  Hа  утpо  стоит  Запоpожец  и  записка  - Любимому зятю от любящей тещи! Сpеднего - идут\n",
            " Болото... Дождь... Вообщем плохая погода. Плывет по центpу бегемот, а у него на моpде сидит жаба  с  кислой  pожей.  Мимо  пpоплывает  каpокадил (Гена) и видит такое дело спpашивает у лягушки: - ты чего такая гpусная??? - да вот Генчик, жизнь такая поганая,  погода  плохая  и  еще  что-то тяжел\n",
            " Пришла бабка в психбольницу проведать внучка. Подлетает к один верхом на палке и говорит: - Садись, бабка, подвезу. И взял за подвоз три рубл&. Подбегает второй и говорит: - Давай, бабка, подлечу! Поплевал ей на голову и взял пять рублей. Бабка пошла к главврачу жаловаться. Что за порядки тут в\n",
            " Приехал Горбачев на завод. Смотрит - рабочие с пустыми тачками носятся туда-сюда. - В чем дело? - спрашивает он у директора завода.- Почему они с пустыми тачками бегают? - Так вы же, Михаил Сергеевич, ускорение объявили, загружаться уже не успеваем. \n",
            " После смерти Брежнева и Черненко состоялась пресс конференция. Журналисты задают вопрос: - Мы не можем понять, почему Брежнев встречал гостей в Кремле, а Черненко в аэропорту? - Потому что Брежнев питался от сети, а Черненко - от батарейки. \n",
            " Уехала жена на курорт. Муж шлет телеграмму: Что за фокусы? Где посуда?  Жена отвечает: Ночуй дома! Муж шлет вторую телеграмму: Не издевайся! Где посуда? Женя опять ему: Ночуй дома! - и срочно возвращается с курорта. Приходит домой и показывает мужу: вся посуда лежит на кровати, накрытая про\n",
            " По министерству прошел слух: секретарша родила сына от министра, и он похож. Узнав об этом, министр вызывает помощника: - Сходи в роддом и узнай, чего там болтают, что он похож? В друг стук в дверь. Вернулся помощник. - Ну что? - спрашивает министр. - Как две капли воды... - Как?! - Маленький\n",
            " Вовочка входит в спальню к родителям и видит, как мама на папе сидит: - А что вы тут делаете? - Да это я папе массаж против толстого живота делаю... - Не поможет, соседка его каждый четверг снова надувает! <\n",
            " Едут в трамвае мама с сыночком - и у сыночка наглухо перебинтована нижняя часть лица.... Народ сочувствующще оборачивается, и тут какая-то сердобольная дама не выдерживает: - А чтой-та у вас такое с мальчиком-то приключилось? Мамаша (хмуро): - Рот порвал!! - Ах... и как ж это так? - Как-как?? Р\n",
            " Одна проститутка другой: - Нет, сегодня не прийду - забот полон рот. \n",
            " Звонок в пейджинговую копанию: - Алле, примите сообщение на пейджер. Раз в 2-3 дня: Батарея разряжена, ее необходимо заменить. После 5-6 раз: Ну что, мужик, не надоело батарейки покупать? Я же шучу! Твой пейджер <\n",
            " - Hу и как ваше чесночная диета?  - Сбросил 3 кг и всех знакомых. \n",
            " Проезжая по узкому переулку, машина писателя столкнулась с грузовиком. Водитель грузовика стал разъяснять писателю на своем шоферском языке, что тот собой представляет. Когда он на секунду замер, чтобы перевести дыхание, писатель промолвил: -Вы знаете, молодой человек, что я не могу прибегнуть к то\n",
            " Директор авиакомпании выговаривает командиру: - Я бы хотел, чтобы вы впредь выбирали слова, когда обращаетесь к пассажирам самолета. - А что случилось? - На днях, заходя на посадку, вы сказали пассажирам в микрофон: Прежде чем мы приземлимся, я хотел бы воспользоваться случаем и попрощаться со вс\n",
            " Шел мужик вечером из пивнушки домой - на автопилоте... Ну и подперло его. Зашел в какой-то двор, стал и отливает, а рядом - труба с незакрытым краном. Вот, значит, стоит он, ждет - когда журчать перестанет. А оно все журчит и  журчит, журчит и журчит... Ждал он ждал, да вдруг как заорет: - Лю\n",
            " Лес. Супруги собирают грибы. Жена нашла большой гриб и спрашивает: - Дорогой, это съедобный гриб? - Пока ты из него ничего не приготовила - да. \n",
            " Зустрічаються двоє нових росіян. Один другому каже:  - Я чув, ти віллу в Італії купуєш?  - Так, моя фірма заробила гроші на їжаках.  - Як це на їжаках? - Ми постачаємо їжаків у Європу для боротьби з польовими шкідниками. - Слухай, братан, а де ти їх стільки береш? - Та це дуже просто: берем п\n",
            " Снесла курочка дедушке яичко. Начисто снесла! \n",
            " TAMPAX. Доставка. Установка. \n",
            " Приходит мужчина к богу и спрашивает у него: - Господь, зачем ты создал женщину такой красивой? - Это чтобы ты любил ее, - отвечает Господь. - Господь, а зачем ты создал женщину такой ласковой и нежной? - Это чтобы ты любил ее, - отвечает Господь. - Господь, ну, а зачем ты создал ее такой глупо\n",
            " - Я так много читал о вреде алкоголя и курения, что с Нового года решил бросить. - Что именно: пить или курить? - Читать... \n",
            " От несоблюдения техники безопасности человек может не только умереть, но и родиться. \n",
            " Поручик Ржевский и компания. Пьянка, естественно. - Господа, давайте искупаем коней в шампанском ! - Ну что вы, поручик, такие затраты, нам денег уже три месяца не платили! - Эх, вы.. Тогда давайте хотя бы кота пивом обольем! \n",
            " Беседуют о житейских проблемах два пацана: - Мне мама сказала, что отрежет мне пипиську, если я еще уписаюсь. Второй говорит: - Ерунда! Я вчера смотрел, как мама купала мою младшую сестру. Не так уж и плохо выглядит, если хорошо сделано! \n",
            " Вы хотите бесплатно питаться и иметь стильную прическу? Идите в военкомат!!! \n",
            " 2030 год. Заседание нового созыва ГосДумы. Селезнев читает обращение к новым депутатам: -... и избранные депутаты и другие члены Федерального Собрания... Один депутат толкает под ребро другого: - Слышь БАКЛАН, он сказал типа ЧЛЕНЫ, это в натуре круто. Гы-гы-гы. \n",
            " Амрекиканский юмор:  Штат Теннеси - 10 миллионов людей, 15 фамилий. \n",
            " - Ну как новый год встретил? - Да как подарок... - Это как? - Всю ночь под ёлкой провалялся... \n",
            " Пингвин - птица редкая. Значит, до середины Днепра долететь должна. \n",
            " - Замечательный подарок сделал телезрителям канал ОРТ. На целый день отменен показ рекламы. Спонсор отмены - фирма Дося. \n",
            " В вагоне метро молодая интересная женщина говорит мужчине, страстно смотрящему на нее:  - Молодой человек, оденьте меня, мне выходить на следующей остановке! \n",
            " ДЕЛИ. На улицах столицы Индии появились поводыри-слоны. Теперь бедному слепому не надо ничего бояться — верное животное обязательно куда-нибудь его доставит. Не обязательно куда надо, но зато с гарантией безопасности. \n",
            " - А к нам вчера в каюту надувная женщина залетела. - Врешь, надувные не залетают! \n",
            " В самолете: - Товарищи пассажиры, посмотрите налево - вы увидите как горит наше левое крыло. Теперь посмотрите направо - вы увидите как горит наше правое крыло.  А теперь посмотрите вниз, и вы увидете как ярко сияют на солнце купола парашютов нашей доблестной команды... \n",
            " Зарплату лучше оставлять в пивбаре, чем в аптеке. \n",
            " Пиво. С собой - 10 руб. Со мной - 9 руб. (Объявление на ларьке) \n",
            " Штирлиц зашел в подвал, в подвале было темно. Штирлиц быстро овладел собой. \n",
            " - Соседка, я вижу, в последнее время ваш муж заметно похудел. Он не болеет? - Нет, просто он каждый день ходит на рыбалку. - И оттого худеет? - Конечно. Ведь он питается только той рыбой, которую поймает. \n",
            " Приз эксгибиционисту от баннерообменной сети: 100000 показов! \n",
            " - Вы не подскажете, как попасть в американское посольство? - Из машины тяжело, попробуйте из дома напротив... \n",
            " Не привыкнешь - подохнешь. Не подохнешь - привыкнешь! \n",
            " - Чем отличается Америка от йогурта? - Тем, что когда йогурт немного постоит, в нем развивается культура. \n",
            " Встречаются двое стариков: - Как дела? - Да вот, только вчера из тюрьмы вернулся. - Да ну? Что же ты такое натворил? - Помнишь мою домработницу? Так вот, она обвинила меня в изнасиловании. - А ты что, действительно ее… - Да нет, конечно. Но просто когда мне предъявили обвинение в изнасиловании\n",
            " Когда в России строили железную дорогу, строители пришли к Петру I и спросили: Какую ширину колеи выбрать? Такую же как в Европе или же больше? Hа что Петр ответил: Hа х$&*% больше?! Теперь мы имеем в стране колею больше чем в Европе на 16 см. \n",
            " В районную больницу № 666 был доставлен пациент с больной ногой. После длительной операции ногу удалось спасти, а пациента - нет. \n",
            " Сын подходит к папе-программисту: - Папа, а слово адрес пишется с одной с или с двумя ? Папа подумал... - Короче, сынок, не мучайся, пиши URL и иди спать! \n",
            " Самое ценное в женском молоке - это тара. \n",
            " У нее была одна извилина... Плавно переходящая в хвост. \n",
            " Разговаривают два мужика: - Тяжело иметь гарем... - Почему? - А ты представь себе, что нужно !СОРОК! раз объяснять, где ты шлялся всю ночь... \n",
            " У ВРАЧА: - Доктор, а я жить буду? - Будешь, но не захочешь... \n",
            " ...Я столько начитался о вреде алкоголя, что бросил читать... \n",
            " СТРАШИЛКА: Жил-был медведь. Совсем без лап. Зимовалось ему отвратительно, но жить хотелось до чертиков...  \n",
            " Два ковбоя: -Скажи мне друг, почему моя лошадь не пьет виски? -Ну, наверное, потому что ты ей не оставляешь! \n",
            " Проходит всемирная художественная выставка на тему голода. Выставлено большое количество картин. Французы изображают худых, скелетоподобных людей, умирающих с голода, итальянцы более склонны изображать голодных детей, тянущих руки в надежде получить хоть крошку хлеба и все в таком духе. Но первое ме\n",
            " Если на ногах ногти, то на руках что - рукти? \n",
            " Если вы захотели бросить курить, но не получилось, потом - пить, и тоже не получилось, а затем отказаться от излишнего секса - и опять безрезультатно, то и наплюйте! От секса по пьянке еще ни один курильщик не помирал! \n",
            " Золотое правило полового гиганта: Между первой и второй, перерывчик не большой. \n",
            " Каким бы не был гениальным ваш врач, геморрой он все равно будет лечить через задницу. \n",
            " На таможне:  - Пошлину платить будете?  - Нет, спасибо, я обычно все вожу контрабандой. \n",
            " - Бритни Спирз потеряла невинность. А знаете, чью? \n",
            " Конец рабочего дня. Уставший ГАИшник тормозит машину:  - Здравствуйте! Старший лейтенант Петров, предъявите, пожалуйста, ваши деньги \n",
            " - Доктор, что означают буквы ЧЗ в моем диагнозе?  - Черт его знает. \n",
            " Вкус щепотки соли можно улучшить, бросив её в кружку с пивом. \n",
            " Я не пошляк -  я РЕАЛИСТ. \n",
            " Ария браконьера: что наша жизнь - икра! \n",
            " - Представьте себе - мой муж скончался на пятый день после свадьбы! - Ну что ж - недолго мучился... \n",
            " В театре, когда людям нравится пьеса, интеллигенция кричит Бис!, средний класс - Бись!, ну а простые работяги просто - З@&ись! \n",
            " Один мужик замечает, что его сотpудник, солидный, спокойный человек, вдpуг начал носить сеpьгу в ухе. Однажды мужик pешается и спpашивает: - Hовые веяния не оставляют pавнодушными даже стаpых зубpов? - Ты это пpо сеpьгу? Hе обpащай внимания, пpиходится, знаешь ли, иногда выкинуть что-нибудь этак\n",
            " Разговаривают два музыканта: - Знаешь, говорят Шура дал концерт голодающим детям Африки! - Правильно! Пусть дети Африки знают, что есть вещи пострашнее голода! \n",
            " Петька и Василий Иванович нажрались огурцов с молоком. После чего сидят в сортире. - Ну что Василий Иванович?  - Понос, Петька, понос...  - А у меня по горло! \n",
            " Три закона водки:  1. Водка не бывает плохой. Водка бывает хорошая и очень хорошая. 2. Водки не бывает много. Бывает мало закуски. 3. Не бывает некрасивых женщин. Бывает мало водки. \n",
            " - Мама, мама, Гоги г*вно ест! - Гоги, не ешь г*вно, скоро обедать будем... \n",
            " Собирается как-то торчёный наркоман перейти дорогу, и вдруг видит, что на бабульку, переходящую дорогу в 10 метрах от него с большой скоростью едет машина Бабулька, естественно, ее не видит. Наркоман пытается её предупредить и изрекает: - (медленно) Типа... Типа... Опа!... \n",
            " Концерт. Выступает молодая певица. Ну, спела песню, поклонилась, хочет уйти. Зал щумит, все кричат:  - Давай ещё!!!  Ну спела ещё раз, снова кланяется, зал не унимается:  - Ещё!!!  Что делать, третий раз поёт... А зал по прежнему... Ну она и говорит:  - Господа, да сколько можно, я уже устала! \n",
            " ДЕБИЛИЗМ – БОЛЕЗНЬ ЗАРАЗНАЯ!!! \n",
            " Лондон,утро. Над городом висит густая мгла,ничего не видно.В комнату к лорду, как обычно, заходит дворецкий. Дворецкий: -Сэр, сегодня смог. Лорд: -Я очень рад за Вас. \n",
            " Продается парашют - использован один раз, ни разу не открывался, небольшое пятно. \n",
            " Маленький сын спрашивает у папы: - Папа, а кто такие голубые!?! - Ну... сынок... - это мексиканцы... - Пап - а почему!?! - Потому, что там живут одни гомесы и педросы... \n",
            " Приходит молодой человек (М.Ч) в женское общежитие Института культуры. На вахте бабулька: -Вы к кому? М.Ч: Позовите Таню с балетного Б: Таня сбалетного уехала на гастроли. М.Ч: А Катя с балетного? Б: Катю с балетного отчислили из института. М.Ч: А Оля с балетного? Б: Оля с балетного уехала к \n",
            " По мнению политологов, кризис Украину обошел! И зашел сзади... \n",
            " Знаете, я сегодня утром совершил ОТКРЫТИЕ ВЕКА!!! Хотите поделюсь, как-это было очень не сложно-взял и пальчиками потянул за ресничку... \n",
            " Два бухгалтера в период отчетов:  - я так запарился, что забыл сколько месяцев в году!  - 10 без НДС... \n",
            " Столяр Пупкин повторил достижение папы Карло. Он так напился, что ДСП заговорило. \n",
            " Муж заходит в кабинет врача - и застаёт свою благоверную супругу, сидящую обнажённой на коленях у врача... - Что всё это значит? Объясните! - кричит разгневанный супруг. - Что моя жена делает у вас на коленях?! - Я выслушиваю её жалобы... - А почему она в таком случае голая?!! - Извините - но \n",
            " - Я вчера с парашютом прыгал. Так стремно! - Правильно говорить не стремно - а экстремально. - Это когда парашют раскрылся - экстремально, а до этого-о-о знаешь как стремно! \n",
            " Туристам, планирующим отправиться в поход по местам, где водятся медведи, настоятельно рекомендуется иметь где-либо на одежде маленький колокольчик. Такие колокольчики своим звоном отпугивают всех медведей. Кроме того, необходимо внимательно смотреть на тропинку перед собой, чтобы вовремя увидеть \n",
            " Сидит за обеденным столом поруччик Ржевский с Наташей и ее родителями и громко чавкает жадно уплетая куринные окорочка тушенные в сметане. Наташа: - Поруччик, вы совершенно не умеете себя вести за столом! -  Увы, мадам, стол - это не моя мебель.... \n",
            " - Бабусь, не заходите в лифт, там его нет! - Шутники-и-и-и-и-и.... \n",
            " Приходит письмо в военкомат 1 октября.  28 мне уже поцелуйте меня в Ж... \n",
            " Трактор мчался по полю, слегка попахивая... \n",
            " Новости:  Во время штурма наркопритона был зверски убит прапорщик Петренко. Через три дня состояние прапорщика нормализовалось. \n",
            " - Какая болезнь вам нравится?     - Чесотка! Почесался и еще хочется.     - А какая не нравится?     - Геморрой. Ни себе посмотреть, ни людям показать! \n",
            " Идет мужик с книжкой в руках. И вдруг встречает своего друга. Тот ему и говорит: - А что это у тебя за книжка в руках? - Называется логика. - А что такое логика? - Ну смотри: у тебя дома есть аквариум? - Ну, есть! - Значит в нем рыбки живут. - Ну, живут! - Значит там есть вода. - Ну,есть! \n",
            " Молодожены уезжают в Африку на ПМЖ. Там рождается ребеночек. Муж звонит своей матери: -мам, у нас мальчик родился, славный такой, только черный. У жены молоко пропало, так она его на кормление африканке отдала, а он почернел -знаеш, сынок, у меня вас трое, и тоже каждый раз молоко пропадало. Вас в\n",
            " Загадка. Угадай слово из трёх букв. Первая буква этого слова - это вторая буква в слове ухо. Вторая буква этого слова - это первая буква слова ухо. Третья буква этого слова - это треья буква в слове х%й.)))) Извините за нецензурщину, из песни слов не выбросишь. С ув Алмер. \n",
            " После ссоpы с мyжем. Жена в сеpдцах кpичит: - Чтоб тебя чеpт забpал! Hе yспел она пеpевести дyх, как появляется чеpт и заявляет: - Интеpесное пpоклятие. Я согласен исполнить тpи твоих желания, но yчти, так как pасплачивается мyж, то он полyчает тоже самое, но в два pаза больше. - Ладно. Пеpвое: \n",
            " Сидит вся семья за столом. Едят вареники из общего жбана. Остается последний вареник. И вдруг выключается свет. А когда включился, то видят, то вареника нет, а теща покраснела вся и давится, кашляя. Теща:  -Сынок, похлопай! Зять (с улыбкой ехидной и, хлопая в ладоши)  -Браво, мама, браво!!! \n",
            " Приходит жид к доктору: -Доктор,доктор,дайте мне, пожалуйста, таблетки от жадности,- только ПОБОЛЬШЕ, ПОБОЛЬШЕ !!! \n",
            " - Ты свою жену любишь? - А кто ж её не любит?.. \n",
            " Зима, собачий холод, позний вечер. Едет насквозь промерзший троллейбус. В нем едут всего несколько человек, и в том числе молодой парень. Остановка. Входит бабка. Войдя в салон, она, оглядев ряды пустых мест, направляется к парню и молвит:  - Уступи дряхлой старушке место, молодой человек!  - Да т\n",
            " -Здравствуйте,Арон Моисеевич!Мы так рады Вас видеть!Вы так прекрасно выглядите!А как Ваше драгоценное здоровье? -Не дождётесь! \n",
            " Хорошая жена в наши дни должна обладать следующими талантами: - убираться пылесосом - готовить в микроволновке - стирать в стиральной машинке - играть на магнитофоне - считать на калькуляторе \n",
            " Здоровый сон не только продлевает жизнь, но и сокращает рабочее время. \n",
            " Мальчик (М) идёт по базару, а Грузин(Г) ему : Г: Малчык,апельцин хочишь? М: У меня ещё от вчерашнего ж*па болит \n",
            " Из Закона бутерброда-если намазать бутерброд с двух сторон, то он зависнет.  Этот вывод неправильный! Вношу поправку: Если бутерброд намазать с двух сторон, то, упав, он начнет кататься по полу, переворачиваясь со стороны на сторону. \n",
            " В небе парижском летает Стая фанерных листов: Видно, к облому. \n",
            " Посередине Тихого океана всплывает русская подлодка, ржавая, вся в ракушках... На палубе высыпается команда, немытая, в грязной форме. Командир: - Кто кинул валенком в пульт? Все молчат... - Еще раз спрашиваю, кто кинул валенком в пульт? Рядом всплывает американская подлодка, вся сверкает, её кап\n",
            " Маленький червячок спрашивает у мамы:   - Мама, а мы можем жить в больших вкусных яблоках?   - Да, сынок!   - А в больших душистых грушах?   - Тоже можем.   - Так почему же мы живем в говне?   - Родину, сынок, не выбирают! \n",
            " Пришел мужик в паспортный стол и говорит: - Я хочу сменить имя. - А как вас зовут? - Сергей Ж*па. - Hуууу, тогда понятно.... А на что вы хотите поменять? - Hа Алексей. \n",
            " У причала стоит Большой Белый Пароход. Возле капитанского мостика прогуливается старый морской волк-капитан. Рядом гордо шагает нарядная внучка с большим бутербродом в руке и донимает деда вопросами, мол это что, а это как... Чинно подходят к световым люкам, ведущим в машину. Внучка наклоняется пос\n",
            " - Почему у гаишника палка полосатая? - Потому, что когда везет, когда не везет... \n",
            " Стоит милиция на посту под старым домом, как вдруг сверху ей на голову падает кирпич. Милиция спокойно поднимает голову и говорит:  - Ничего себе! А если бы здесь человек стоял? \n",
            " - Куме а куме, а чому в Вас так меду багато? - А тому що гарні бджоли маю.... - А чим то Ваші бджоли кращі за інші? - А Вони, куме, в поля не летять, а на ринок до бабок....Наберуть там меду і до мене у вулики. - Еге ж куме, гарні бджоли, Тому Що Справедливі.....  - Куме а куме, як ся має Ваш\n",
            " Заявление пресс-службы МВД: На допросе студент из Закарпатья сознался, что умышленно в течение года мазал яйца БЛЕНДАМЕДОМ. \n",
            " В рамках борьбы со спидом Минздрав публикует социальную рекламу для девушек под лозунгом: Старый друг лучше новых двух. \n",
            " Внедорожник - это мащина, которая застряет там, куда другие не доедут. \n",
            " Подходит сестричка к братику и спрашивает: Вова а где моя черепашка? Вова: Настенька не переживай она во дворе,с ребятами,орехи КОЛИТ!!! \n",
            " Чоловік, що летів на повітряній кулі, виявив, що він заблукав. Він спустився нижче і помітив на землі жінку. Спустившись ще трохи нижxе, він звернувся до неї: — Вибачте, чи не могли б ви допомогти мені? Я домовився з другом зустрітися годиною тому, але не знаю, де я зараз. — Ви на повітряній кулі \n",
            " Муж жене: - Дорогая, ты не права. - Ах, я не права, значит, я вру. Если я вру, значит, я брешу. Если я брешу, значит, я — собака… Мама, он меня сукой обозвал!!! \n",
            " Мать откровенничает: - У меня три дочери. Всех троих воспитала, выдала замуж и помогла развестись всем! Большего нельзя требовать ни от одной матери! \n",
            " Нарк едет на мотоцикле, накуривается. Думает, сейчас менты остановят, спросят: Почему глаза красные? - Скажу: Ветер надул. Не успел косячок докурить, его менты останавливают. Подходит мент спрашивает: - Почему глаза красные, ветер надул? - Нет, накурился! \n",
            " Бюро ремонта. Ремонтники: - Так, хард не позиционируется. Дело в дисководе. - И развертки на дисплее нет - видеокарта сдохла. - Нет индикации, не крутится вентилятор на процессоре. Мама полетела. Пользователь: - Ей, мужики, вы что - охренели? Питание включите! \n",
            " - Почему ты плачешь, малыш? - Моя собака убежала! - А где ты живешь? - Это только моя собака знает! \n",
            " Мальчик пишет школьное сочинение по теме “Мой папа”: “Мой папа - самый сильный и самый смелый! Он может переплыть самую широкую реку, полную крокодилов и пираний, взобраться без страховки на самую высокую гору и побороть голыми руками медведя-гризли или льва. Но обычно он моет посуду, стирает носки \n",
            " На Англию совершена террористическая атака. Первый удар нанес Джордж Буш на велосипеде, сбив полицейского. \n",
            " Душа просит романтики, а ж*па - приключений... \n",
            " Прислал как-то Котовский Чапаеву с Петькой красной икры и французского коньяка. Через неделю Чапаев пишет Котовскому: Самогонку-то мы выпили, xоть она клопами и воняла, а вот клюкву  есть не стали,  так как она больно мелкая и рыбой отдает. \n",
            " Туркменские кондитеры выпустили в производство новый торт Туркменбаши. Это тот же Наполеон, но… без яиц. \n",
            " Двое новых русских заполняют анкеты для получения загранпаспорта. И вдруг натыкаются на графу Особые приметы. - Что тут писать? - спрашивает один у другого, - какие у меня могут быть особые приметы? - Ну, например, ты знаешь кто такой Гамлет, принц датский? - Нет, не знаю. - Вот так и пиши: не з\n",
            " После очередной победы на ринге у знаменитого боксера берут интервью. - Hаши зрители интересуются, скажите, зачем вам такие большие руки? - спрашивает корреспондент. - А-а.. ЭЭ.... МММ.. ААА.. - отвечает боксер. - Hу, наверное, чтобы иметь большую мощь удара, сразить соперника. - помогает ему кор\n",
            " - Катя, а ты после нашей свадьбы фамилию мою возьмешь?  - А ты что на мне жениться собираешься?  - Ну, в принципе, я могу тебя и дальше продолжать тр*хать, хоть до старости - но надо же тебя хоть как-то отблагодарить??!! \n",
            " Доля веществ в вине: сахар - 10%, алкоголь - 12%, вода - 68%, истина - 10%. \n",
            " Пришел олигарх к гадалке. Спрашивает - как, мол, там его будущее поживает. Она ему отвечает:  - Судьба у тебя, милок, будет - как у картошки. - Это как? - Тебя либо весной посадят, либо осенью уберут. \n",
            " Надпись в морге: Здесь был я. \n",
            " Заядлый коллекционер пригласил своего друга, капитана дальнего плавания, посмотреть новое приобретение - картину Айвазовского. - Ты посмотри, какие волны, какое буйство стихии! - Это подделка. Тебя обманули. - С чего ты это взял? - От настоящего Айвазовского меня всегда тошнит. \n",
            " - Девушка, вы не будете возражать, если я приглашу вас на ужин, а вы решительно откажитесь и мы сразу перейдем к делу? \n",
            " Приезжает лилипут на своем очень маааленьком автомобиле на АЗС: - Налейте, мне, пожалуйсто 2 капли масла в двигатель, 5 капель бензина - в бак и каплю воды в радиатор пожалуйста. - Может тебе ещё пукнуть в шину?! \n",
            " Голосование на веб-странице:  «Пользовались ли вы когда-нибудь Интернетом?» \n",
            " Продавщица говорит кассирше: - Люся, скажи этим ханурикам, что семьдесят второй портвейн закончился. Пусть берут другой. Люся: - Ladies and gentlemen! Attention! Port number seventy two is over. Sorry, please. \n",
            " Я часто слухаю в машині класичну музику, - зазначив Віктор Янукович. Особливо симфонічні композиції Шуфутинського та Поплавського. \n",
            " Друг всегда поделится с другом подружкой своей подружки. \n",
            " - Мам, почему все называют меня рассеянным? - Мальчик, иди, ты в соседнем подъезде живешь! \n",
            " Малыш на ДР очень просил собаку купить. Родители решили порадовать малыша и купили здоровенного сембернара. Малыш посмотрел на псину и говорит - Я не понял кому кого подарили? \n",
            " Фраза доктора:Вы скоро поправитесь! ввела пациентку, только что прошедшую процедуру липосакции, в глубокий обморок. \n",
            " - Сынок, что это у тебя в ухе? Серьга!? Серьги в ухе носят либо пираты, либо педерасты. Сейчас я открою дверь в твою комнату, и если не увижу там пиратского корабл&... я не знаю, что с тобой сделаю!!! \n",
            " Некоторые люди убеждают, что пробились наверх,  хотя на самом деле, они просто туда всплыли. \n",
            " Пациента готовят к операции. Он очень волнуется: - Доктор, а я не умру? - Да нет, что вы, нас за это ругают. \n",
            " Наконец-то ученые открыли секрет долголетия ежей. Оказывается, никакого секрета нет. Да и живут они, собственно, недолго... \n",
            " - Василий Иваныч, танки в огороде! - Гони их на хрен, Петька, самим жрать нечего. \n",
            " Вопрос: - Можно ли послать женщину в космос? Ответ: - Да, это достаточно далеко и притом вполне прилично. \n",
            " Прежде, чем найдешь свою царевну, перецелуешь немало жаб! \n",
            " От создателей журнала Отдохни - новинка: журнал Напрягись. Самые сложные кроссворды - без ответов на последней страничке, анекдоты на японском, в оригинале, а также - для самых маленьких - картинка-загадка: Найди 8 тысяч отличий. \n",
            " -- Почему вы хотели покончить с собой? -- Мне скучно жить... -- И вы думаете, что самоубийство вас развлечет? \n",
            " Карпов дисквалифицирован в матче с Корчным. У него обнаружили допинг: в правом кармане - Малая земля Брежнева, в левом - его же Возрождение. \n",
            "  Новая секретарша заходит к шефу в кабинет и говорит:   - Господин директор, мне кажется, вас просят к телефону.   Директор смотрит с иронией на нее:   - Что значит кажется?! Меня просят к телефону или нет?!   - Знаете, - замялась секретарша, - когда я подняла трубку, услышала женский голос, кот\n",
            "  Мужик приходит к директору цирка.   - Есть обалденный номер. Я поднимаюсь под купол цирка и прыгаю вниз головой с 20 метров на арену без всякой страховки. Встаю с манежа, приветствую публику. Пойдет?   - А вы сколько хотите за это?   - Триста долларов за каждый прыжок.   - Ну, надо посмотреть. \n",
            "  Лень - это когда видишь необходимость что-то делать, но не хочется, а влом - это когда что-то хочется, но не видишь необходимости это делать.\n",
            "  Зима. Утро. Заходит бабуля в троллейбус, где сидит один молодой парень.   Бабушка:   - Уступи мне место, сынок...   - Но мест полно, бабуля, - отвечает парень.   - А твоё нагретое...\n",
            "  Встретились два соседа. Один у другого спрашивает:   - У тебя корова курит?   - Нет.   - Значит, у тебя сарай горит!\n",
            "  Вопрос армянскому радио:   -Нормально ли это, когда руки достают до пола?   -Если до противоположного, то да!  \n",
            "  Секретарь входит в кабинет шефа:   - Один из ваших сотрудников хочет поговорить с вами о надбавке.   - Скажите, что меня нет.   - Невозможно, он точно знает, что вы на месте.   - Кто же он?   - Это я.\n",
            "  - Как по английски работа?   - job   - А работать?   - Вjobывать!\n",
            "  Рыбак - охотнику: - Ну, ни пуха, ни пера!   Охотник - рыбаку: - И тебе х*й, а не рыбы!\n",
            "  - Здравствуйте, Васю можно к телефону?   - Его нет дома.   - А, ну передайте ему, что я на аборт не согласна!\n",
            "  - Погода паршивая!   - Это из-за Гольфстрима.   - Он еврей?   - Нет. Течение.   - Масонское?   - Океаническое.   - Из Израиля?   - Нет. Из Америки.   - Так я и знал. У них, у евреев, небось, солнышко светит, а мы тут гнить должны.   - Да нет. Там сейчас ночь.   - А ты откуда все знаешь? Т\n",
            "  - Пожалуйста, вышлите нам инвойс.   - Не слышу!   - Вышлите Инвойс!   - Что выслать???   - Инвойс, бл..ь - Говорю по буквам: Иван! Наталья! Валерий! Ольга! Ирина!   Сергей!   - Мля, кто эти люди????  \n",
            "  Директор даёт объявление, что ему требуется помощник, обязательные условия: ведение документации, отличное знание   компьютера, знание иностранного языка. Наконец он расположился в кабинете, приготовившись к собеседованию. В кабинет входит   собака и усаживается в кресло для соискателей. Обалдевш\n",
            "  Стоят-разговаривают две подружки-блондинки. Одна из них достаёт пудреницу, смотрит в зеркальце и говорит:   — Ой, что-то лицо знакомое.   Подружка:   — Дай посмотрю… Правильно, дура, это же я.  \n",
            "  Купили Пушкин, Лермонтов и Маяковский бутылку водки а как делить не знают. В итоге решили, что наливать каждому будут столько водки, про сколько он сочинит стихотворение.   Пушкин начал:   Рыбка плавает в пруду,   Выпью рюмочку одну!   Налили ему рюмочку, за ним очередь Лермонтова:   Рыбка пла\n",
            "  В булочной:   - Два нарезных и один гладкоствольный, пожалуйста.  \n",
            "  - Зайдите, зайдите ко мне! Это ваше заявление на отпуск?   - Да.   - У вас, что совсем нет никакой совести? Вы понятия не имеете, как мало вы вообще работаете! Сейчас я вам это продемонстрирую. Считайте вместе со мной. Как известно, в году 365 дней. Каждые сутки вы спите по 8 часов, это в сумме с\n",
            "  - Маша, а чего ты делала?   - В куклы игpала с Олей.   - И кто выигpал?\n",
            "  - Недавно изобрёл универсальный растворитель. Теперь думаю, в чём его хранить...\n",
            "  Разговаривают два приятеля:   -Слышал новость, в Монако запретили фудбол!   -Нет. А почему?   -Потому что мяч постоянно улетает то во Францию, то в Италию...\n",
            "  Социальная реклама на ТВ.   Звонок в дверь. Открывает мужик. К нему бросаются два парня: один с камерой, другой с микрофоном. Тот, кто с микрофоном:   -Мужчина, вы курите?   -Курю.   Спросивший достаёт ствол, стреляет в мужика, поворачивается в камеру:   -Вы ещё курите? Тогда мы идём к вам.\n",
            "  Вчера на Манежной площади была драка между фанатами Спартака и фанатами Зенита... Победили фанаты ОМОНа :)\n",
            "  Сидит мужик на берегу Нила и рыбу ловит. Жара жуткая, духота, пекло, да еще и рыба не ловится... Час сидит мужик, два сидит, а рыба все не ловится. Вдруг всплывает крокодил и так у мужика участливо спрашивает:  - Что, жарко?  - Угу...  - Душно?  - Угу...  - (с надеждой...) Может, тогда искупне\n",
            "  Работа не клеилась. Что-то не ладилось. Буксовало.   Заедало. Зашкаливало. Движок грелся. Шла лишняя   стружка.   И тут - о, чудо! - мимо шла Она.   И сразу перестало не клеиться, буксовать, заедать,   зашкаливать, греться, давать лишнюю   стружку.........Работа остановилась полностью.  \n",
            "  Приходит мужчина в больницу навестить своего старого друга. Его встречает доктор и говорит:  -- Постарайтесь выглядеть пободрее,а то ему очень плохо и нельзя, чтобы он расстраивался еще больше.   Через некоторое время мужчина влетает в палату к больному с криком:  --Ну что,умираем!\n",
            "  Дело было давно. Решил один мужик не ходить на работу. Надо взять бюллетень. Пошел в больницу, сунул в задницу червонец, зашел к врачу, говорит: Доктор, задница болит. Тот ему: Покажите, ага - гемморой, получи бюллетень. Рассказал мужик об этом другу, а тому тоже неохота на работу. Друг дует в боль\n",
            "  В горном санатории пациент жалуется врачу, что ему здесь тяжело дышится.   - Как? ! -удивляется врач, -В этом прозрачном воздухе?   - Вот именно! У себя дома я привык видеть, чем дышу.\n",
            "  - Представь, я своим работягам уже полгода зарплату не плачу, а они все ходят на работу и ходят!   - Слушай, а если с них плату за вход брать?   - Да я пробовал уже... Так они в понедельник утром приходят, а в пятницу вечером уходят!\n",
            "  Встречаются двое:   - Вчера по телевизору видел как Путин на приеме у Шредера был.   - И чего? Общались по немецки?   - Да, Путин без переводчика шпарил. Шредер 2 раза руки вверх поднимал и документы показывал\n",
            "  Воскресенье, выборы.  Мужик проголосовал, идет домой. Тут мимо него сосед бежит сломя голову на участок.  - Постой, ты куда так несешься?  - Да вот, встретить свою любимую бабушку...  - Так ведь она у тебя пять лет назад умерла?!  - Так и я так думал, а вот на вторых выборах уже говорят: Да, т\n",
            "[[154 124 197 ... 154 129 154]\n",
            " [154 104 154 ... 154 154 154]\n",
            " [154  83 129 ...  42 154 154]\n",
            " ...\n",
            " [154 154 104 ... 154 154 154]\n",
            " [154 154 170 ... 154 154 154]\n",
            " [154 154 170 ... 154 154 154]]\n"
          ],
          "name": "stdout"
        }
      ]
    },
    {
      "cell_type": "markdown",
      "metadata": {
        "id": "MQvltETtQmZZ"
      },
      "source": [
        "# Рекуррентные нейронные сети\n",
        "\n",
        "<img src=\"https://github.com/Samsung-IT-Academy/stepik-dl-nlp/blob/master/img/rnn.png?raw=1\" width=480>"
      ]
    },
    {
      "cell_type": "code",
      "metadata": {
        "ExecuteTime": {
          "end_time": "2019-11-05T18:21:10.739438Z",
          "start_time": "2019-11-05T18:21:09.661222Z"
        },
        "id": "kq9B_fnlQmZa"
      },
      "source": [
        "import torch, torch.nn as nn\n",
        "import torch.nn.functional as F\n",
        "from torch.autograd import Variable"
      ],
      "execution_count": 10,
      "outputs": []
    },
    {
      "cell_type": "code",
      "metadata": {
        "ExecuteTime": {
          "end_time": "2019-11-05T18:21:10.751862Z",
          "start_time": "2019-11-05T18:21:10.741772Z"
        },
        "id": "hEjszzNLQmZe"
      },
      "source": [
        "class CharRNNCell(nn.Module):\n",
        "    \"\"\"\n",
        "    Implement the scheme above as torch module\n",
        "    \"\"\"\n",
        "    def __init__(self, num_tokens=len(tokens), embedding_size=16, rnn_num_units=64):\n",
        "        super(self.__class__,self).__init__()\n",
        "        self.num_units = rnn_num_units\n",
        "        \n",
        "        self.embedding = nn.Embedding(num_tokens, embedding_size)\n",
        "        self.rnn_update = nn.Linear(embedding_size + rnn_num_units, rnn_num_units)\n",
        "        self.rnn_to_logits = nn.Linear(rnn_num_units, num_tokens)\n",
        "        \n",
        "    def forward(self, x, h_prev):\n",
        "        \"\"\"\n",
        "        This method computes h_next(x, h_prev) and log P(x_next | h_next)\n",
        "        We'll call it repeatedly to produce the whole sequence.\n",
        "        \n",
        "        :param x: batch of character ids, variable containing vector of int64\n",
        "        :param h_prev: previous rnn hidden states, variable containing matrix [batch, rnn_num_units] of float32\n",
        "        \"\"\"\n",
        "        # get vector embedding of x\n",
        "        x_emb = self.embedding(x)\n",
        "        \n",
        "        # compute next hidden state using self.rnn_update\n",
        "        x_and_h = torch.cat([x_emb, h_prev], dim=1) #YOUR CODE HERE\n",
        "        h_next = self.rnn_update(x_and_h) #YOUR CODE HERE\n",
        "        \n",
        "        h_next = F.tanh(h_next)\n",
        "        \n",
        "        assert h_next.size() == h_prev.size()\n",
        "        \n",
        "        #compute logits for next character probs\n",
        "        logits = self.rnn_to_logits(h_next)\n",
        "        \n",
        "        return h_next, F.log_softmax(logits, -1)\n",
        "    \n",
        "    def initial_state(self, batch_size):\n",
        "        \"\"\" return rnn state before it processes first input (aka h0) \"\"\"\n",
        "        return Variable(torch.zeros(batch_size, self.num_units))"
      ],
      "execution_count": 11,
      "outputs": []
    },
    {
      "cell_type": "code",
      "metadata": {
        "ExecuteTime": {
          "end_time": "2019-11-05T18:21:11.071002Z",
          "start_time": "2019-11-05T18:21:11.052377Z"
        },
        "id": "PJgloctIQmZh"
      },
      "source": [
        "char_rnn = CharRNNCell()"
      ],
      "execution_count": 12,
      "outputs": []
    },
    {
      "cell_type": "markdown",
      "metadata": {
        "id": "rx5MLuf3QmZl"
      },
      "source": [
        "### Тренировка сети, RNN loop"
      ]
    },
    {
      "cell_type": "code",
      "metadata": {
        "ExecuteTime": {
          "end_time": "2019-11-05T18:21:11.521078Z",
          "start_time": "2019-11-05T18:21:11.510175Z"
        },
        "id": "g-eLwcT3QmZm"
      },
      "source": [
        "def rnn_loop(rnn, batch_index):\n",
        "    \"\"\"\n",
        "    Computes log P(next_character) for all time-steps in anek_ix\n",
        "    :param anek_ix: an int32 matrix of shape [batch, time], output of to_matrix(anek)\n",
        "    \"\"\"\n",
        "    batch_size, max_length = batch_index.size()\n",
        "    hid_state = rnn.initial_state(batch_size)\n",
        "    logprobs = []\n",
        "\n",
        "    for x_t in batch_index.transpose(0,1):\n",
        "        hid_state, logp_next = rnn(x_t, hid_state)  \n",
        "        logprobs.append(logp_next)\n",
        "        \n",
        "    return torch.stack(logprobs, dim=1)"
      ],
      "execution_count": 13,
      "outputs": []
    },
    {
      "cell_type": "markdown",
      "metadata": {
        "id": "7QNvKIHiQmZp"
      },
      "source": [
        "### Тренировка сети"
      ]
    },
    {
      "cell_type": "code",
      "metadata": {
        "ExecuteTime": {
          "end_time": "2019-11-05T18:21:12.120106Z",
          "start_time": "2019-11-05T18:21:12.109585Z"
        },
        "id": "Z7QeDJfxQmZr"
      },
      "source": [
        "from IPython.display import clear_output\n",
        "from random import sample\n",
        "\n",
        "char_rnn = CharRNNCell()\n",
        "opt = torch.optim.Adam(char_rnn.parameters())\n",
        "history = []"
      ],
      "execution_count": 15,
      "outputs": []
    },
    {
      "cell_type": "code",
      "metadata": {
        "ExecuteTime": {
          "end_time": "2019-11-05T18:21:23.521061Z",
          "start_time": "2019-11-05T18:21:12.302892Z"
        },
        "id": "g3VnF92CQmZu",
        "outputId": "cf329b8c-ed81-4a92-e067-bb68ba52ef29",
        "colab": {
          "base_uri": "https://localhost:8080/",
          "height": 265
        }
      },
      "source": [
        "MAX_LENGTH = max(map(len, anek))\n",
        "\n",
        "for i in range(2000):\n",
        "    print (i)\n",
        "    batch_ix = to_matrix(sample(anek, 32), token_to_id, max_len=MAX_LENGTH)\n",
        "    batch_ix = torch.tensor(batch_ix, dtype=torch.int64)\n",
        "    \n",
        "    logp_seq = rnn_loop(char_rnn, batch_ix)\n",
        "    \n",
        "    # compute loss\n",
        "    predictions_logp = logp_seq[:, :-1]\n",
        "    actual_next_tokens = batch_ix[:, 1:]\n",
        "\n",
        "    loss = -torch.mean(torch.gather(predictions_logp, dim=2, index=actual_next_tokens[:,:,None]))###YOUR CODE\n",
        "    \n",
        "    # train with backprop\n",
        "    loss.backward()\n",
        "    opt.step()\n",
        "    opt.zero_grad()\n",
        "    \n",
        "    # visualizing training process\n",
        "    history.append(loss.data.numpy())\n",
        "    print (loss.data.numpy())\n",
        "    if (i + 1) % 100 == 0:\n",
        "        clear_output(True)\n",
        "        plt.plot(history,label='loss')\n",
        "        plt.legend()\n",
        "        plt.show()\n",
        "\n",
        "assert np.mean(history[:10]) > np.mean(history[-10:]), \"RNN didn't converge.\""
      ],
      "execution_count": 16,
      "outputs": [
        {
          "output_type": "display_data",
          "data": {
            "image/png": "[encoded data removed]",
            "text/plain": [
              "<Figure size 432x288 with 1 Axes>"
            ]
          },
          "metadata": {
            "tags": [],
            "needs_background": "light"
          }
        }
      ]
    },
    {
      "cell_type": "markdown",
      "metadata": {
        "id": "n5TI_GoyQmZw"
      },
      "source": [
        "### RNN: генерация анектодов"
      ]
    },
    {
      "cell_type": "code",
      "metadata": {
        "ExecuteTime": {
          "end_time": "2019-11-05T18:21:23.540765Z",
          "start_time": "2019-11-05T18:21:23.524503Z"
        },
        "id": "ZYHdZvh6QmZx"
      },
      "source": [
        "def generate_sample(char_rnn, seed_phrase=' ', max_length=MAX_LENGTH, temperature=1.0):\n",
        "    '''\n",
        "    The function generates text given a phrase of length at least SEQ_LENGTH.\n",
        "    :param seed_phrase: prefix characters. The RNN is asked to continue the phrase\n",
        "    :param max_length: maximum output length, including seed_phrase\n",
        "    :param temperature: coefficient for sampling.  higher temperature produces more chaotic outputs,\n",
        "                        smaller temperature converges to the single most likely output\n",
        "    '''\n",
        "    \n",
        "    x_sequence = [token_to_id[token] for token in seed_phrase]\n",
        "    x_sequence = torch.tensor([x_sequence], dtype=torch.int64)\n",
        "    hid_state = char_rnn.initial_state(batch_size=1)\n",
        "    \n",
        "    #feed the seed phrase, if any\n",
        "    for i in range(len(seed_phrase) - 1):\n",
        "        hid_state, _ = char_rnn(x_sequence[:, i], hid_state)\n",
        "    \n",
        "    #start generating\n",
        "    for _ in range(max_length - len(seed_phrase)):\n",
        "        hid_state, logp_next = char_rnn(x_sequence[:, -1], hid_state)\n",
        "        p_next = F.softmax(logp_next / temperature, dim=-1).data.numpy()[0]\n",
        "        \n",
        "        # sample next token and push it back into x_sequence\n",
        "        next_ix = np.random.choice(len(tokens), p=p_next)\n",
        "        next_ix = torch.tensor([[next_ix]], dtype=torch.int64)\n",
        "        x_sequence = torch.cat([x_sequence, next_ix], dim=1)\n",
        "    return ''.join([tokens[ix] for ix in x_sequence.data.numpy()[0]])        "
      ],
      "execution_count": 17,
      "outputs": []
    },
    {
      "cell_type": "code",
      "metadata": {
        "ExecuteTime": {
          "end_time": "2019-11-05T18:21:23.625562Z",
          "start_time": "2019-11-05T18:21:23.544968Z"
        },
        "id": "XXQUuO4RQmZ1",
        "outputId": "66d65d52-121e-4ea5-ee14-8645e78fed4b",
        "colab": {
          "base_uri": "https://localhost:8080/"
        }
      },
      "source": [
        "for _ in range(10):\n",
        "    print(generate_sample(char_rnn,temperature=0.8))"
      ],
      "execution_count": 18,
      "outputs": [
        {
          "output_type": "stream",
          "text": [
            "/usr/local/lib/python3.6/dist-packages/torch/nn/functional.py:1628: UserWarning: nn.functional.tanh is deprecated. Use torch.tanh instead.\n",
            "  warnings.warn(\"nn.functional.tanh is deprecated. Use torch.tanh instead.\")\n"
          ],
          "name": "stderr"
        },
        {
          "output_type": "stream",
          "text": [
            " B тать на спорасен.                                                                                                                                                                                                                                                                                         \n",
            " Вероб                                                                                                                                                                                                                                                                                                       \n",
            " Зазны ремупнактой кромит: - Мерочануть, болова коемя лостин рицится пружит в емго сомит:   Мешальнет: -Ма - прогокорошамезем                                                                                                                                                                                \n",
            " Мыхоректо, потора дорнывые зония одна себе сто сорусько в натри.                                                                                                                                                                                                                                            \n",
            " В мел, потит, мужет кнам выдени. Смолса обом оволько!- А мажиноавсеть в желани.  А мулобо дучатая в шеть в на                                                                                                                                                                                               \n",
            "  Пводин та больке дор! Ном. - Вacoarhin Огсла в таранины и влего сударском не денна зталко камасецади на в Кот спугенало серече - прог валих капкочно ускопять - ко ворэкие мугать кадит колых и отный денилую старкиде ражил Ходев дельниленалого, нош: Дром в стожень помошик мож онанаещь в постой не сро\n",
            " Озго пиковся податьты с то в муть на поки, кограк пичшАют и корчинает кому не дет отреном, об, темкорой молатим сосла вывельна в зомверего иза, побыда не обливов...                                                                                                                                        \n",
            " Поогроврили, а дениранся!                                                                                                                                                                                                                                                                                   \n",
            " Наго но на маятние сласку в беленни можела                                                                                                                                                                                                                                                                  \n",
            " Рыбе спрашен ествоо...                                                                                                                                                                                                                                                                                      \n"
          ],
          "name": "stdout"
        }
      ]
    },
    {
      "cell_type": "code",
      "metadata": {
        "ExecuteTime": {
          "end_time": "2019-11-05T18:21:23.702249Z",
          "start_time": "2019-11-05T18:21:23.629226Z"
        },
        "id": "9mw_4WznQmZ4",
        "outputId": "bb6b8cef-c794-4d98-b0ef-8d4bb4497423",
        "colab": {
          "base_uri": "https://localhost:8080/"
        }
      },
      "source": [
        "for _ in range(10):\n",
        "    print(generate_sample(char_rnn, seed_phrase=' Из'))"
      ],
      "execution_count": null,
      "outputs": [
        {
          "output_type": "stream",
          "text": [
            "/usr/local/lib/python3.6/dist-packages/torch/nn/functional.py:1628: UserWarning: nn.functional.tanh is deprecated. Use torch.tanh instead.\n",
            "  warnings.warn(\"nn.functional.tanh is deprecated. Use torch.tanh instead.\")\n"
          ],
          "name": "stderr"
        },
        {
          "output_type": "stream",
          "text": [
            " Изналек всего дебующда и (silEthrr: Den_И - пнатала Бефама глагой павати, что хочцальбессолу со ракрнута:- Здейшfi- Дент бнего. обез давается.                                                                                                                                                              \n",
            " Изым чук  еслодка? Наку на рысколилание. Г тне, иссказивy залодящик ну чти бы увадай хфастсянта: - Сос вамарь, подало машу, задучет машенто а Паусов.                                                                                                                                                       \n",
            " Из_Empа. - Де кто пелл&quot;                                                                                                                                                                                                                                                                                \n",
            " Из тапа:- Тегу насподогча зходры прото сиваче росдали если в зКами хоростели …паго, :  - Да воловлес рабодаба накоз пралько хатки постодека...   - Если?  - У во поговы Tвает скол онче, фуркай сносици! ГuАthiiMiadelRr а дворинива, на врагуется в говали уже. Зващил- мильная?   - Ну баввщел!Вы на постр\n",
            " Иза дре. Больше дотарася, - в удел в -У-попер, клюбу, вутудельнос мно выдоранься в саробогу такое у потор у мецно у дому на тказино, мину подраживает... Обрасох гоклчика, на еслут принятой с мато в стыленьтайка болько                                                                                   \n",
            " Из ено. Что!! Ты не, выбуде други вни недлю в? Его просе можесть мак домую и вос не в в назалы, на подходинсявек прихосна казнив... Аа, шаже. Карпилальнукая - рамы анцлает кищильнильнукпать попотом прадногили в барабых Dhе встаньшы позмунть ИТушиваюл, - Внах не посели сленате что что гвоем: MlUpen 3\n",
            " Изи Бять и него оборвое. - Чузичений.                                                                                                                                                                                                                                                                       \n",
            " Изпуде  В русом прине и буда кто, ви клкужетний на сак: - Сипума!   - У делов, побадх Тапоро… [isat дене:-. А г синько мело, я, тадет ужим, и гростите, естний веймул поинце кам еще?                                                                                                                       \n",
            " Изкуза.                                                                                                                                                                                                                                                                                                     \n",
            " Измежное зары упрый? - - о Мазик. Синных выслели нидоня - Детами скаженойБя и продины.                                                                                                                                                                                                                      \n"
          ],
          "name": "stdout"
        }
      ]
    },
    {
      "cell_type": "markdown",
      "metadata": {
        "id": "HpRcfLtkQmaW"
      },
      "source": [
        "### Что еще можно генерировать?\n",
        "С помощью кода из этого семинара можно генерировать не только имена, но и:\n",
        "\n",
        "* Повести/романы/поэзию/песни любимого автора\n",
        "* Новостные заголовки\n",
        "* Программный код\n",
        "* Молекулы в формате [smiles](https://en.wikipedia.org/wiki/Simplified_molecular-input_line-entry_system)\n",
        "* Музыку\n",
        "* Названия мебели из ИКЕА\n",
        "* Мотивационные лозунги\n",
        "* etc.\n",
        "\n",
        "__Удачи!__"
      ]
    },
    {
      "cell_type": "code",
      "metadata": {
        "id": "Kq5tYJVJQmaW"
      },
      "source": [
        ""
      ],
      "execution_count": null,
      "outputs": []
    }
  ]
}